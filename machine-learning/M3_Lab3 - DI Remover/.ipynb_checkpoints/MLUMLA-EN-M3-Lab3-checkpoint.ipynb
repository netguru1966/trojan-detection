{
 "cells": [
  {
   "cell_type": "markdown",
   "metadata": {},
   "source": [
    "<center><img src=\"./images/logo.png\" alt=\"drawing\" width=\"400\" style=\"background-color:white; padding:1em;\" /></center> <br/>\n",
    "\n",
    "# ML through Application \n",
    "## Module 3, Lab 3: Implementing a DI Remover\n",
    "\n",
    "This notebook shows you how to quantify disparate impact (DI) and implement a basic DI remover. You will use a logistic regression model to predict whether an individual's income is $\\leq$ 50k by using data from the U.S. Census Bureau.\n",
    "\n",
    "You will learn how to do the following:\n",
    "- Transform a dataset by using a DI remover.\n",
    "- Measure DI before and after model training.\n",
    "\n",
    "__Dataset:__ \n",
    "You will use [Folktables](https://github.com/zykls/folktables) to download a dataset for this lab. Folktables provides an API to download data from the American Community Survey (ACS) Public Use Microdata Sample (PUMS) files, which the U.S. Census Bureau manages. The data itself is governed by the terms of use that are provided by the Census Bureau. For more information, see the [Terms of Service](https://www.census.gov/data/developers/about/terms-of-service.html). \n",
    "\n",
    "You will filter the ACS PUMS data sample to include only individuals who are above the age of 16, reported usual working hours of at least 1 hour per week in the past year, and have an income of at least \\\\$100. \n",
    "The threshold of \\\\$50,000 was chosen so that this dataset can serve as a comparable replacement to the [UCI Adult dataset](https://archive.ics.uci.edu/ml/datasets/adult), but the income threshold can be changed easily to define new prediction tasks. Historically, the [UCI Adult dataset](https://archive.ics.uci.edu/ml/datasets/adult) served as the basis for the development and comparison of many algorithmic fairness interventions but has limited documentation, outdated feature encodings, and only contains a binary target label which can lead to misrepresentations for certain subpopulations. In order to compare your results with scientific findings that utilize the UCI Adult dataset, and to have greater control and flexibility in setting up the problem, you will utilize the ACS PUMS data with the filters and thresholds described above.\n",
    "\n",
    "__ML problem:__ \n",
    "The goal is to predict whether an individual's income is above \\\\$50,000. \n",
    "This is a binary prediction task that can enable organizations and businesses to target their marketing efforts more effectively. Alternatively, governments could leverage these predictions to design better social welfare programs and allocate resources efficiently. Keep these kinds of problems in mind, when working through the notebook.\n",
    "\n",
    "Reference: Dua, D. and Graff, C. (2019). UCI Machine Learning Repository. http://archive.ics.uci.edu/ml. Irvine, CA: University of California, School of Information and Computer Science.\n",
    "\n",
    "----\n",
    "\n",
    "You will be presented with activities throughout the notebook: <br/>\n",
    "\n",
    "| <img style=\"float: center;\" src=\"./images/activity.png\" alt=\"Activity\" width=\"125\"/>| \n",
    "| --- | \n",
    "|<p style=\"text-align:center;\"> No coding is needed for an activity. You try to understand a concept, <br/>answer questions, or run a code cell.</p>|"
   ]
  },
  {
   "cell_type": "markdown",
   "metadata": {},
   "source": [
    "## Index\n",
    "\n",
    "- [Read in the dataset](#Read-in-the-dataset)\n",
    "- [Data processing](#Data-processing)\n",
    "- [Train a classifier](#Train-a-classifier)\n",
    "- [Test the classifier](#Test-the-classifier)"
   ]
  },
  {
   "cell_type": "markdown",
   "metadata": {},
   "source": [
    "Before loading in the dataset, make sure to install and import all required libraries."
   ]
  },
  {
   "cell_type": "code",
   "execution_count": 1,
   "metadata": {
    "tags": []
   },
   "outputs": [],
   "source": [
    "# Use pip to install libraries\n",
    "!pip install --no-deps -U -q -r requirements.txt"
   ]
  },
  {
   "cell_type": "code",
   "execution_count": 2,
   "metadata": {
    "tags": []
   },
   "outputs": [],
   "source": [
    "%%capture\n",
    "\n",
    "# Import the libraries needed for the notebook\n",
    "\n",
    "# Reshaping/basic libraries\n",
    "import pandas as pd\n",
    "import numpy as np\n",
    "\n",
    "# Plotting libraries\n",
    "import matplotlib.pyplot as plt\n",
    "import seaborn as sns\n",
    "\n",
    "%matplotlib inline\n",
    "\n",
    "sns.set_style(\"darkgrid\", {\"axes.facecolor\": \".9\"})\n",
    "\n",
    "# ML libraries\n",
    "from sklearn.model_selection import train_test_split\n",
    "from sklearn.metrics import confusion_matrix, accuracy_score\n",
    "from sklearn.impute import SimpleImputer\n",
    "from sklearn.preprocessing import OneHotEncoder, MinMaxScaler\n",
    "from sklearn.pipeline import Pipeline\n",
    "from sklearn.compose import ColumnTransformer\n",
    "from sklearn.linear_model import LogisticRegression\n",
    "\n",
    "# Operational libraries\n",
    "from MLUMLA_EN_M3_Lab3_quiz_questions import *\n",
    "from EqualityOfOddsJupy import *\n",
    "\n",
    "# Fairness libraries\n",
    "from folktables.acs import *\n",
    "from folktables.folktables import *\n",
    "from folktables.load_acs import *\n",
    "from aif360.datasets import BinaryLabelDataset, Dataset\n",
    "from aif360.metrics import BinaryLabelDatasetMetric\n",
    "from aif360.algorithms.preprocessing import DisparateImpactRemover\n",
    "\n",
    "# Jupyter(lab) libraries\n",
    "import warnings\n",
    "\n",
    "warnings.filterwarnings(\"ignore\")"
   ]
  },
  {
   "cell_type": "markdown",
   "metadata": {},
   "source": [
    "---\n",
    "## Read in the dataset\n",
    "\n",
    "Import the data from Folktables."
   ]
  },
  {
   "cell_type": "code",
   "execution_count": 3,
   "metadata": {
    "tags": []
   },
   "outputs": [],
   "source": [
    "income_features = [\n",
    "    \"AGEP\",  # age individual\n",
    "    \"COW\",  # class of worker\n",
    "    \"SCHL\",  # educational attainment\n",
    "    \"MAR\",  # marital status\n",
    "    \"OCCP\",  # occupation\n",
    "    \"POBP\",  # place of birth\n",
    "    \"RELP\",  # relationship\n",
    "    \"WKHP\",  # hours worked per week past 12 months\n",
    "    \"SEX\",  # sex\n",
    "    \"RAC1P\",  # recorded detailed race code\n",
    "    \"PWGTP\",  # persons weight\n",
    "    \"GCL\",  # grandparents living with grandchildren\n",
    "]\n",
    "\n",
    "# Define the prediction problem and features\n",
    "ACSIncome = folktables.BasicProblem(\n",
    "    features=income_features,\n",
    "    target=\"PINCP\",  # total persons income\n",
    "    target_transform=lambda x: x > 50000,\n",
    "    group=\"RAC1P\",\n",
    "    preprocess=adult_filter,  # applies the following conditions; ((AAGE>16) && (AGI>100) && (AFNLWGT>1)&& (HRSWK>0))\n",
    "    postprocess=lambda x: x,  #  # applies post processing, for example: fill all NAs\n",
    ")\n",
    "\n",
    "# Initialize year, duration (\"1-Year\" or \"5-Year\") and granularity (household or person)\n",
    "data_source = ACSDataSource(survey_year=\"2018\", horizon=\"1-Year\", survey=\"person\")\n",
    "# Specify region (here: California) and load data\n",
    "ca_data = data_source.get_data(states=[\"CA\"], download=True)\n",
    "# Apply transformation as per problem statement above\n",
    "ca_features, ca_labels, ca_group = ACSIncome.df_to_numpy(ca_data)\n",
    "\n",
    "# Convert NumPy array to DataFrame\n",
    "df = pd.DataFrame(\n",
    "    np.concatenate((ca_features, ca_labels.reshape(-1, 1)), axis=1),\n",
    "    columns=income_features + [\">50k\"],\n",
    ")\n",
    "\n",
    "# For further modeling, use only two groups\n",
    "df = df[df[\"RAC1P\"].isin([6, 8])].copy(deep=True)"
   ]
  },
  {
   "cell_type": "markdown",
   "metadata": {},
   "source": [
    "---\n",
    "## Data processing\n",
    "\n",
    "### EDA\n",
    "\n",
    "Look at the number of rows, number of columns, and some simple statistics of the dataset."
   ]
  },
  {
   "cell_type": "code",
   "execution_count": 4,
   "metadata": {
    "tags": []
   },
   "outputs": [
    {
     "data": {
      "text/html": [
       "<div>\n",
       "<style scoped>\n",
       "    .dataframe tbody tr th:only-of-type {\n",
       "        vertical-align: middle;\n",
       "    }\n",
       "\n",
       "    .dataframe tbody tr th {\n",
       "        vertical-align: top;\n",
       "    }\n",
       "\n",
       "    .dataframe thead th {\n",
       "        text-align: right;\n",
       "    }\n",
       "</style>\n",
       "<table border=\"1\" class=\"dataframe\">\n",
       "  <thead>\n",
       "    <tr style=\"text-align: right;\">\n",
       "      <th></th>\n",
       "      <th>AGEP</th>\n",
       "      <th>COW</th>\n",
       "      <th>SCHL</th>\n",
       "      <th>MAR</th>\n",
       "      <th>OCCP</th>\n",
       "      <th>POBP</th>\n",
       "      <th>RELP</th>\n",
       "      <th>WKHP</th>\n",
       "      <th>SEX</th>\n",
       "      <th>RAC1P</th>\n",
       "      <th>PWGTP</th>\n",
       "      <th>GCL</th>\n",
       "      <th>&gt;50k</th>\n",
       "    </tr>\n",
       "  </thead>\n",
       "  <tbody>\n",
       "    <tr>\n",
       "      <th>0</th>\n",
       "      <td>30.0</td>\n",
       "      <td>6.0</td>\n",
       "      <td>14.0</td>\n",
       "      <td>1.0</td>\n",
       "      <td>9610.0</td>\n",
       "      <td>6.0</td>\n",
       "      <td>16.0</td>\n",
       "      <td>40.0</td>\n",
       "      <td>1.0</td>\n",
       "      <td>8.0</td>\n",
       "      <td>32.0</td>\n",
       "      <td>2.0</td>\n",
       "      <td>0.0</td>\n",
       "    </tr>\n",
       "    <tr>\n",
       "      <th>27</th>\n",
       "      <td>23.0</td>\n",
       "      <td>2.0</td>\n",
       "      <td>21.0</td>\n",
       "      <td>5.0</td>\n",
       "      <td>2545.0</td>\n",
       "      <td>207.0</td>\n",
       "      <td>17.0</td>\n",
       "      <td>20.0</td>\n",
       "      <td>2.0</td>\n",
       "      <td>6.0</td>\n",
       "      <td>35.0</td>\n",
       "      <td>NaN</td>\n",
       "      <td>0.0</td>\n",
       "    </tr>\n",
       "    <tr>\n",
       "      <th>33</th>\n",
       "      <td>18.0</td>\n",
       "      <td>1.0</td>\n",
       "      <td>16.0</td>\n",
       "      <td>5.0</td>\n",
       "      <td>9610.0</td>\n",
       "      <td>6.0</td>\n",
       "      <td>17.0</td>\n",
       "      <td>8.0</td>\n",
       "      <td>2.0</td>\n",
       "      <td>6.0</td>\n",
       "      <td>33.0</td>\n",
       "      <td>NaN</td>\n",
       "      <td>0.0</td>\n",
       "    </tr>\n",
       "    <tr>\n",
       "      <th>46</th>\n",
       "      <td>40.0</td>\n",
       "      <td>1.0</td>\n",
       "      <td>15.0</td>\n",
       "      <td>3.0</td>\n",
       "      <td>4140.0</td>\n",
       "      <td>303.0</td>\n",
       "      <td>16.0</td>\n",
       "      <td>22.0</td>\n",
       "      <td>1.0</td>\n",
       "      <td>8.0</td>\n",
       "      <td>38.0</td>\n",
       "      <td>2.0</td>\n",
       "      <td>0.0</td>\n",
       "    </tr>\n",
       "    <tr>\n",
       "      <th>49</th>\n",
       "      <td>18.0</td>\n",
       "      <td>1.0</td>\n",
       "      <td>18.0</td>\n",
       "      <td>5.0</td>\n",
       "      <td>725.0</td>\n",
       "      <td>6.0</td>\n",
       "      <td>17.0</td>\n",
       "      <td>12.0</td>\n",
       "      <td>2.0</td>\n",
       "      <td>6.0</td>\n",
       "      <td>60.0</td>\n",
       "      <td>NaN</td>\n",
       "      <td>0.0</td>\n",
       "    </tr>\n",
       "    <tr>\n",
       "      <th>53</th>\n",
       "      <td>25.0</td>\n",
       "      <td>4.0</td>\n",
       "      <td>21.0</td>\n",
       "      <td>5.0</td>\n",
       "      <td>3870.0</td>\n",
       "      <td>6.0</td>\n",
       "      <td>17.0</td>\n",
       "      <td>40.0</td>\n",
       "      <td>1.0</td>\n",
       "      <td>6.0</td>\n",
       "      <td>50.0</td>\n",
       "      <td>NaN</td>\n",
       "      <td>0.0</td>\n",
       "    </tr>\n",
       "    <tr>\n",
       "      <th>64</th>\n",
       "      <td>27.0</td>\n",
       "      <td>1.0</td>\n",
       "      <td>14.0</td>\n",
       "      <td>5.0</td>\n",
       "      <td>7200.0</td>\n",
       "      <td>6.0</td>\n",
       "      <td>16.0</td>\n",
       "      <td>40.0</td>\n",
       "      <td>1.0</td>\n",
       "      <td>8.0</td>\n",
       "      <td>51.0</td>\n",
       "      <td>NaN</td>\n",
       "      <td>0.0</td>\n",
       "    </tr>\n",
       "    <tr>\n",
       "      <th>66</th>\n",
       "      <td>29.0</td>\n",
       "      <td>1.0</td>\n",
       "      <td>13.0</td>\n",
       "      <td>5.0</td>\n",
       "      <td>4251.0</td>\n",
       "      <td>312.0</td>\n",
       "      <td>16.0</td>\n",
       "      <td>48.0</td>\n",
       "      <td>1.0</td>\n",
       "      <td>8.0</td>\n",
       "      <td>68.0</td>\n",
       "      <td>NaN</td>\n",
       "      <td>0.0</td>\n",
       "    </tr>\n",
       "    <tr>\n",
       "      <th>80</th>\n",
       "      <td>20.0</td>\n",
       "      <td>2.0</td>\n",
       "      <td>17.0</td>\n",
       "      <td>5.0</td>\n",
       "      <td>725.0</td>\n",
       "      <td>6.0</td>\n",
       "      <td>17.0</td>\n",
       "      <td>18.0</td>\n",
       "      <td>2.0</td>\n",
       "      <td>6.0</td>\n",
       "      <td>59.0</td>\n",
       "      <td>NaN</td>\n",
       "      <td>0.0</td>\n",
       "    </tr>\n",
       "    <tr>\n",
       "      <th>81</th>\n",
       "      <td>21.0</td>\n",
       "      <td>1.0</td>\n",
       "      <td>19.0</td>\n",
       "      <td>5.0</td>\n",
       "      <td>5820.0</td>\n",
       "      <td>6.0</td>\n",
       "      <td>17.0</td>\n",
       "      <td>38.0</td>\n",
       "      <td>2.0</td>\n",
       "      <td>8.0</td>\n",
       "      <td>64.0</td>\n",
       "      <td>NaN</td>\n",
       "      <td>0.0</td>\n",
       "    </tr>\n",
       "  </tbody>\n",
       "</table>\n",
       "</div>"
      ],
      "text/plain": [
       "    AGEP  COW  SCHL  MAR    OCCP   POBP  RELP  WKHP  SEX  RAC1P  PWGTP  GCL  \\\n",
       "0   30.0  6.0  14.0  1.0  9610.0    6.0  16.0  40.0  1.0    8.0   32.0  2.0   \n",
       "27  23.0  2.0  21.0  5.0  2545.0  207.0  17.0  20.0  2.0    6.0   35.0  NaN   \n",
       "33  18.0  1.0  16.0  5.0  9610.0    6.0  17.0   8.0  2.0    6.0   33.0  NaN   \n",
       "46  40.0  1.0  15.0  3.0  4140.0  303.0  16.0  22.0  1.0    8.0   38.0  2.0   \n",
       "49  18.0  1.0  18.0  5.0   725.0    6.0  17.0  12.0  2.0    6.0   60.0  NaN   \n",
       "53  25.0  4.0  21.0  5.0  3870.0    6.0  17.0  40.0  1.0    6.0   50.0  NaN   \n",
       "64  27.0  1.0  14.0  5.0  7200.0    6.0  16.0  40.0  1.0    8.0   51.0  NaN   \n",
       "66  29.0  1.0  13.0  5.0  4251.0  312.0  16.0  48.0  1.0    8.0   68.0  NaN   \n",
       "80  20.0  2.0  17.0  5.0   725.0    6.0  17.0  18.0  2.0    6.0   59.0  NaN   \n",
       "81  21.0  1.0  19.0  5.0  5820.0    6.0  17.0  38.0  2.0    8.0   64.0  NaN   \n",
       "\n",
       "    >50k  \n",
       "0    0.0  \n",
       "27   0.0  \n",
       "33   0.0  \n",
       "46   0.0  \n",
       "49   0.0  \n",
       "53   0.0  \n",
       "64   0.0  \n",
       "66   0.0  \n",
       "80   0.0  \n",
       "81   0.0  "
      ]
     },
     "execution_count": 4,
     "metadata": {},
     "output_type": "execute_result"
    }
   ],
   "source": [
    "# Print the first five rows\n",
    "# NaN means missing data\n",
    "df.head(10)"
   ]
  },
  {
   "cell_type": "code",
   "execution_count": 5,
   "metadata": {
    "tags": []
   },
   "outputs": [
    {
     "name": "stdout",
     "output_type": "stream",
     "text": [
      "The shape of the dataset is: (55502, 13)\n"
     ]
    }
   ],
   "source": [
    "# Check how many rows and columns are in the DataFrame\n",
    "print(\"The shape of the dataset is:\", df.shape)"
   ]
  },
  {
   "cell_type": "code",
   "execution_count": 6,
   "metadata": {
    "tags": []
   },
   "outputs": [
    {
     "name": "stdout",
     "output_type": "stream",
     "text": [
      "<class 'pandas.core.frame.DataFrame'>\n",
      "Index: 55502 entries, 0 to 195664\n",
      "Data columns (total 13 columns):\n",
      " #   Column  Non-Null Count  Dtype  \n",
      "---  ------  --------------  -----  \n",
      " 0   AGEP    55502 non-null  float64\n",
      " 1   COW     55502 non-null  float64\n",
      " 2   SCHL    55502 non-null  float64\n",
      " 3   MAR     55502 non-null  float64\n",
      " 4   OCCP    55502 non-null  float64\n",
      " 5   POBP    55502 non-null  float64\n",
      " 6   RELP    55502 non-null  float64\n",
      " 7   WKHP    55502 non-null  float64\n",
      " 8   SEX     55502 non-null  float64\n",
      " 9   RAC1P   55502 non-null  float64\n",
      " 10  PWGTP   55502 non-null  float64\n",
      " 11  GCL     41987 non-null  float64\n",
      " 12  >50k    55502 non-null  float64\n",
      "dtypes: float64(13)\n",
      "memory usage: 5.9 MB\n"
     ]
    }
   ],
   "source": [
    "# See the data types and non-null values for each column\n",
    "df.info()"
   ]
  },
  {
   "cell_type": "markdown",
   "metadata": {},
   "source": [
    "Notice that all columns are numerical (`dtype = float64`). However, check the column headers (and information about the dataset from the links given at the beginning of the notebook), and notice that you are actually dealing with multimodal data. The dataset has a mix of categorical, numerical, and potentially even text information.\n",
    "\n",
    "You start by creating a list for each feature type. To keep things simple, you should start by only using one feature as sensitive attribute. Cast all other the features according to the desired data type."
   ]
  },
  {
   "cell_type": "code",
   "execution_count": 7,
   "metadata": {
    "tags": []
   },
   "outputs": [],
   "source": [
    "categorical_features = [\n",
    "    \"COW\",\n",
    "    \"SCHL\",\n",
    "    \"MAR\",\n",
    "    \"OCCP\",\n",
    "    \"POBP\",\n",
    "    \"RELP\",\n",
    "    \"SEX\",\n",
    "    \"GCL\",\n",
    "]\n",
    "\n",
    "sensitive_attribute = \"RAC1P\"\n",
    "\n",
    "numerical_features = [\"AGEP\", \"WKHP\", \"PWGTP\"]"
   ]
  },
  {
   "cell_type": "code",
   "execution_count": 8,
   "metadata": {
    "tags": []
   },
   "outputs": [],
   "source": [
    "# Cast categorical features to `category`\n",
    "df[categorical_features] = df[categorical_features].astype(\"object\")\n",
    "\n",
    "# Cast the sensitive attribute as `category`\n",
    "df[sensitive_attribute] = df[sensitive_attribute].astype(\"object\")\n",
    "\n",
    "# Cast numerical features to `int`\n",
    "df[numerical_features] = df[numerical_features].astype(\"int\")"
   ]
  },
  {
   "cell_type": "markdown",
   "metadata": {},
   "source": [
    "To make sure that the changes took effect, use `.info()` to check. Compare the results to the `df.info()` output above to make sure the features were cast correctly. "
   ]
  },
  {
   "cell_type": "code",
   "execution_count": 9,
   "metadata": {
    "tags": []
   },
   "outputs": [
    {
     "name": "stdout",
     "output_type": "stream",
     "text": [
      "<class 'pandas.core.frame.DataFrame'>\n",
      "Index: 55502 entries, 0 to 195664\n",
      "Data columns (total 13 columns):\n",
      " #   Column  Non-Null Count  Dtype  \n",
      "---  ------  --------------  -----  \n",
      " 0   AGEP    55502 non-null  int64  \n",
      " 1   COW     55502 non-null  object \n",
      " 2   SCHL    55502 non-null  object \n",
      " 3   MAR     55502 non-null  object \n",
      " 4   OCCP    55502 non-null  object \n",
      " 5   POBP    55502 non-null  object \n",
      " 6   RELP    55502 non-null  object \n",
      " 7   WKHP    55502 non-null  int64  \n",
      " 8   SEX     55502 non-null  object \n",
      " 9   RAC1P   55502 non-null  object \n",
      " 10  PWGTP   55502 non-null  int64  \n",
      " 11  GCL     41987 non-null  object \n",
      " 12  >50k    55502 non-null  float64\n",
      "dtypes: float64(1), int64(3), object(9)\n",
      "memory usage: 5.9+ MB\n"
     ]
    }
   ],
   "source": [
    "df.info()"
   ]
  },
  {
   "cell_type": "markdown",
   "metadata": {},
   "source": [
    "Now you can now separate model features from the model target to explore them separately."
   ]
  },
  {
   "cell_type": "code",
   "execution_count": 10,
   "metadata": {
    "tags": []
   },
   "outputs": [
    {
     "name": "stdout",
     "output_type": "stream",
     "text": [
      "Model features:  ['COW', 'SCHL', 'MAR', 'OCCP', 'POBP', 'RELP', 'SEX', 'GCL', 'AGEP', 'WKHP', 'PWGTP', 'RAC1P']\n",
      "Model target:  >50k\n"
     ]
    }
   ],
   "source": [
    "model_target = \">50k\"\n",
    "model_features = categorical_features + numerical_features + [sensitive_attribute]\n",
    "\n",
    "print(\"Model features: \", model_features)\n",
    "print(\"Model target: \", model_target)"
   ]
  },
  {
   "cell_type": "code",
   "execution_count": 11,
   "metadata": {
    "tags": []
   },
   "outputs": [
    {
     "data": {
      "text/plain": [
       "False"
      ]
     },
     "execution_count": 11,
     "metadata": {},
     "output_type": "execute_result"
    }
   ],
   "source": [
    "# Check that the target is not accidentally part of the features\n",
    "model_target in model_features"
   ]
  },
  {
   "cell_type": "markdown",
   "metadata": {
    "tags": []
   },
   "source": [
    "This looks good. You made sure that the target is not in the feature list. If the output of the previous cell is `True`, you need to remove the target by calling `model_features.remove(model_target)`.\n",
    "\n",
    "Next, you will look for missing values.\n",
    "\n",
    "#### Check for missing values\n",
    "\n",
    "The quickest way to check for missing values is to use `.isna().sum()`. This will provide a count of missing values.\n",
    "\n",
    "You can also see the count of missing values with `.info()` because the function provides a count of non-null values."
   ]
  },
  {
   "cell_type": "code",
   "execution_count": 12,
   "metadata": {
    "tags": []
   },
   "outputs": [
    {
     "data": {
      "text/plain": [
       "AGEP         0\n",
       "COW          0\n",
       "SCHL         0\n",
       "MAR          0\n",
       "OCCP         0\n",
       "POBP         0\n",
       "RELP         0\n",
       "WKHP         0\n",
       "SEX          0\n",
       "RAC1P        0\n",
       "PWGTP        0\n",
       "GCL      13515\n",
       ">50k         0\n",
       "dtype: int64"
      ]
     },
     "execution_count": 12,
     "metadata": {},
     "output_type": "execute_result"
    }
   ],
   "source": [
    "# Show missing values\n",
    "df.isna().sum()"
   ]
  },
  {
   "cell_type": "markdown",
   "metadata": {},
   "source": [
    "If you find a column where the majority of the values are missing, consider to exclude this column from the feature list. Alternatively, you can find a way to fill the missing values and impute them."
   ]
  },
  {
   "cell_type": "code",
   "execution_count": 13,
   "metadata": {},
   "outputs": [
    {
     "data": {
      "text/plain": [
       "AGEP         0\n",
       "COW          0\n",
       "SCHL         0\n",
       "MAR          0\n",
       "OCCP         0\n",
       "POBP         0\n",
       "RELP         0\n",
       "WKHP         0\n",
       "SEX          0\n",
       "RAC1P        0\n",
       "PWGTP        0\n",
       "GCL      13515\n",
       ">50k         0\n",
       "dtype: int64"
      ]
     },
     "execution_count": 13,
     "metadata": {},
     "output_type": "execute_result"
    }
   ],
   "source": [
    "# Show missing values\n",
    "df.isna().sum()"
   ]
  },
  {
   "cell_type": "code",
   "execution_count": 14,
   "metadata": {},
   "outputs": [
    {
     "data": {
      "text/html": [
       "<div>\n",
       "<style scoped>\n",
       "    .dataframe tbody tr th:only-of-type {\n",
       "        vertical-align: middle;\n",
       "    }\n",
       "\n",
       "    .dataframe tbody tr th {\n",
       "        vertical-align: top;\n",
       "    }\n",
       "\n",
       "    .dataframe thead th {\n",
       "        text-align: right;\n",
       "    }\n",
       "</style>\n",
       "<table border=\"1\" class=\"dataframe\">\n",
       "  <thead>\n",
       "    <tr style=\"text-align: right;\">\n",
       "      <th></th>\n",
       "      <th>AGEP</th>\n",
       "      <th>COW</th>\n",
       "      <th>SCHL</th>\n",
       "      <th>MAR</th>\n",
       "      <th>OCCP</th>\n",
       "      <th>POBP</th>\n",
       "      <th>RELP</th>\n",
       "      <th>WKHP</th>\n",
       "      <th>SEX</th>\n",
       "      <th>RAC1P</th>\n",
       "      <th>PWGTP</th>\n",
       "      <th>GCL</th>\n",
       "      <th>&gt;50k</th>\n",
       "    </tr>\n",
       "  </thead>\n",
       "  <tbody>\n",
       "    <tr>\n",
       "      <th>0</th>\n",
       "      <td>30</td>\n",
       "      <td>6.0</td>\n",
       "      <td>14.0</td>\n",
       "      <td>1.0</td>\n",
       "      <td>9610.0</td>\n",
       "      <td>6.0</td>\n",
       "      <td>16.0</td>\n",
       "      <td>40</td>\n",
       "      <td>1.0</td>\n",
       "      <td>8.0</td>\n",
       "      <td>32</td>\n",
       "      <td>2.0</td>\n",
       "      <td>0.0</td>\n",
       "    </tr>\n",
       "    <tr>\n",
       "      <th>27</th>\n",
       "      <td>23</td>\n",
       "      <td>2.0</td>\n",
       "      <td>21.0</td>\n",
       "      <td>5.0</td>\n",
       "      <td>2545.0</td>\n",
       "      <td>207.0</td>\n",
       "      <td>17.0</td>\n",
       "      <td>20</td>\n",
       "      <td>2.0</td>\n",
       "      <td>6.0</td>\n",
       "      <td>35</td>\n",
       "      <td>NaN</td>\n",
       "      <td>0.0</td>\n",
       "    </tr>\n",
       "    <tr>\n",
       "      <th>33</th>\n",
       "      <td>18</td>\n",
       "      <td>1.0</td>\n",
       "      <td>16.0</td>\n",
       "      <td>5.0</td>\n",
       "      <td>9610.0</td>\n",
       "      <td>6.0</td>\n",
       "      <td>17.0</td>\n",
       "      <td>8</td>\n",
       "      <td>2.0</td>\n",
       "      <td>6.0</td>\n",
       "      <td>33</td>\n",
       "      <td>NaN</td>\n",
       "      <td>0.0</td>\n",
       "    </tr>\n",
       "    <tr>\n",
       "      <th>46</th>\n",
       "      <td>40</td>\n",
       "      <td>1.0</td>\n",
       "      <td>15.0</td>\n",
       "      <td>3.0</td>\n",
       "      <td>4140.0</td>\n",
       "      <td>303.0</td>\n",
       "      <td>16.0</td>\n",
       "      <td>22</td>\n",
       "      <td>1.0</td>\n",
       "      <td>8.0</td>\n",
       "      <td>38</td>\n",
       "      <td>2.0</td>\n",
       "      <td>0.0</td>\n",
       "    </tr>\n",
       "    <tr>\n",
       "      <th>49</th>\n",
       "      <td>18</td>\n",
       "      <td>1.0</td>\n",
       "      <td>18.0</td>\n",
       "      <td>5.0</td>\n",
       "      <td>725.0</td>\n",
       "      <td>6.0</td>\n",
       "      <td>17.0</td>\n",
       "      <td>12</td>\n",
       "      <td>2.0</td>\n",
       "      <td>6.0</td>\n",
       "      <td>60</td>\n",
       "      <td>NaN</td>\n",
       "      <td>0.0</td>\n",
       "    </tr>\n",
       "    <tr>\n",
       "      <th>53</th>\n",
       "      <td>25</td>\n",
       "      <td>4.0</td>\n",
       "      <td>21.0</td>\n",
       "      <td>5.0</td>\n",
       "      <td>3870.0</td>\n",
       "      <td>6.0</td>\n",
       "      <td>17.0</td>\n",
       "      <td>40</td>\n",
       "      <td>1.0</td>\n",
       "      <td>6.0</td>\n",
       "      <td>50</td>\n",
       "      <td>NaN</td>\n",
       "      <td>0.0</td>\n",
       "    </tr>\n",
       "    <tr>\n",
       "      <th>64</th>\n",
       "      <td>27</td>\n",
       "      <td>1.0</td>\n",
       "      <td>14.0</td>\n",
       "      <td>5.0</td>\n",
       "      <td>7200.0</td>\n",
       "      <td>6.0</td>\n",
       "      <td>16.0</td>\n",
       "      <td>40</td>\n",
       "      <td>1.0</td>\n",
       "      <td>8.0</td>\n",
       "      <td>51</td>\n",
       "      <td>NaN</td>\n",
       "      <td>0.0</td>\n",
       "    </tr>\n",
       "    <tr>\n",
       "      <th>66</th>\n",
       "      <td>29</td>\n",
       "      <td>1.0</td>\n",
       "      <td>13.0</td>\n",
       "      <td>5.0</td>\n",
       "      <td>4251.0</td>\n",
       "      <td>312.0</td>\n",
       "      <td>16.0</td>\n",
       "      <td>48</td>\n",
       "      <td>1.0</td>\n",
       "      <td>8.0</td>\n",
       "      <td>68</td>\n",
       "      <td>NaN</td>\n",
       "      <td>0.0</td>\n",
       "    </tr>\n",
       "    <tr>\n",
       "      <th>80</th>\n",
       "      <td>20</td>\n",
       "      <td>2.0</td>\n",
       "      <td>17.0</td>\n",
       "      <td>5.0</td>\n",
       "      <td>725.0</td>\n",
       "      <td>6.0</td>\n",
       "      <td>17.0</td>\n",
       "      <td>18</td>\n",
       "      <td>2.0</td>\n",
       "      <td>6.0</td>\n",
       "      <td>59</td>\n",
       "      <td>NaN</td>\n",
       "      <td>0.0</td>\n",
       "    </tr>\n",
       "    <tr>\n",
       "      <th>81</th>\n",
       "      <td>21</td>\n",
       "      <td>1.0</td>\n",
       "      <td>19.0</td>\n",
       "      <td>5.0</td>\n",
       "      <td>5820.0</td>\n",
       "      <td>6.0</td>\n",
       "      <td>17.0</td>\n",
       "      <td>38</td>\n",
       "      <td>2.0</td>\n",
       "      <td>8.0</td>\n",
       "      <td>64</td>\n",
       "      <td>NaN</td>\n",
       "      <td>0.0</td>\n",
       "    </tr>\n",
       "  </tbody>\n",
       "</table>\n",
       "</div>"
      ],
      "text/plain": [
       "    AGEP  COW  SCHL  MAR    OCCP   POBP  RELP  WKHP  SEX RAC1P  PWGTP  GCL  \\\n",
       "0     30  6.0  14.0  1.0  9610.0    6.0  16.0    40  1.0   8.0     32  2.0   \n",
       "27    23  2.0  21.0  5.0  2545.0  207.0  17.0    20  2.0   6.0     35  NaN   \n",
       "33    18  1.0  16.0  5.0  9610.0    6.0  17.0     8  2.0   6.0     33  NaN   \n",
       "46    40  1.0  15.0  3.0  4140.0  303.0  16.0    22  1.0   8.0     38  2.0   \n",
       "49    18  1.0  18.0  5.0   725.0    6.0  17.0    12  2.0   6.0     60  NaN   \n",
       "53    25  4.0  21.0  5.0  3870.0    6.0  17.0    40  1.0   6.0     50  NaN   \n",
       "64    27  1.0  14.0  5.0  7200.0    6.0  16.0    40  1.0   8.0     51  NaN   \n",
       "66    29  1.0  13.0  5.0  4251.0  312.0  16.0    48  1.0   8.0     68  NaN   \n",
       "80    20  2.0  17.0  5.0   725.0    6.0  17.0    18  2.0   6.0     59  NaN   \n",
       "81    21  1.0  19.0  5.0  5820.0    6.0  17.0    38  2.0   8.0     64  NaN   \n",
       "\n",
       "    >50k  \n",
       "0    0.0  \n",
       "27   0.0  \n",
       "33   0.0  \n",
       "46   0.0  \n",
       "49   0.0  \n",
       "53   0.0  \n",
       "64   0.0  \n",
       "66   0.0  \n",
       "80   0.0  \n",
       "81   0.0  "
      ]
     },
     "execution_count": 14,
     "metadata": {},
     "output_type": "execute_result"
    }
   ],
   "source": [
    "df.head(10)"
   ]
  },
  {
   "cell_type": "code",
   "execution_count": 15,
   "metadata": {},
   "outputs": [
    {
     "name": "stdout",
     "output_type": "stream",
     "text": [
      "Model features:  ['COW', 'SCHL', 'MAR', 'OCCP', 'POBP', 'RELP', 'SEX', 'GCL', 'AGEP', 'WKHP', 'PWGTP', 'RAC1P']\n",
      "Model target:  >50k\n"
     ]
    }
   ],
   "source": [
    "model_target = \">50k\"\n",
    "model_features = categorical_features + numerical_features + [sensitive_attribute]\n",
    "\n",
    "print(\"Model features: \", model_features)\n",
    "print(\"Model target: \", model_target)"
   ]
  },
  {
   "cell_type": "markdown",
   "metadata": {},
   "source": [
    "Before starting to create plots, look at how many unique instances you have per column. This helps you avoid plotting charts with hundreds of unique values. To do this, filter for columns with fewer than 10 unique instances."
   ]
  },
  {
   "cell_type": "code",
   "execution_count": 16,
   "metadata": {
    "tags": []
   },
   "outputs": [
    {
     "name": "stdout",
     "output_type": "stream",
     "text": [
      "COW      8.0\n",
      "MAR      5.0\n",
      "SEX      2.0\n",
      "GCL      2.0\n",
      "RAC1P    2.0\n",
      "dtype: float64\n"
     ]
    }
   ],
   "source": [
    "shortlist_fts = (\n",
    "    df[model_features]\n",
    "    .apply(lambda col: col.nunique())\n",
    "    .where(df[model_features].apply(lambda col: col.nunique()) < 10)\n",
    "    .dropna()\n",
    ")\n",
    "\n",
    "print(shortlist_fts)"
   ]
  },
  {
   "cell_type": "markdown",
   "metadata": {},
   "source": [
    "#### Check the target distribution\n",
    "\n",
    "Check the target distribution."
   ]
  },
  {
   "cell_type": "code",
   "execution_count": 17,
   "metadata": {
    "tags": []
   },
   "outputs": [
    {
     "data": {
      "image/png": "[encoded data removed]",
      "text/plain": [
       "<Figure size 640x480 with 1 Axes>"
      ]
     },
     "metadata": {},
     "output_type": "display_data"
    }
   ],
   "source": [
    "df[model_target].value_counts().plot.bar(color=\"black\")\n",
    "plt.show()"
   ]
  },
  {
   "cell_type": "markdown",
   "metadata": {},
   "source": [
    "Notice that the dataset is imbalanced. This means that the dataset has more examples for one type of result (here: 0; meaning individuals that earn $\\leq$ 50k). This is relevant for model choice and potential upsampling or downsampling to balance out the classes."
   ]
  },
  {
   "cell_type": "markdown",
   "metadata": {},
   "source": [
    "#### Create feature distributions\n",
    "\n",
    "Now, plot bar charts for the shortlist features (feature columns with fewer than 10 unique instance classes) of the dataset."
   ]
  },
  {
   "cell_type": "code",
   "execution_count": 18,
   "metadata": {
    "tags": []
   },
   "outputs": [
    {
     "data": {
      "image/png": "[encoded data removed]",
      "text/plain": [
       "<Figure size 1500x1000 with 6 Axes>"
      ]
     },
     "metadata": {},
     "output_type": "display_data"
    }
   ],
   "source": [
    "fig, axs = plt.subplots(nrows=2, ncols=3, figsize=(15, 10))\n",
    "fig.suptitle(\"Feature Bar Plots\")\n",
    "\n",
    "fts = range(len(shortlist_fts.index.tolist()))\n",
    "for i, ax in zip(fts, axs.ravel()):\n",
    "    df[shortlist_fts.index.tolist()[i]].value_counts().plot.bar(color=\"black\", ax=ax)\n",
    "    ax.set_title(shortlist_fts.index.tolist()[i])\n",
    "plt.show()"
   ]
  },
  {
   "cell_type": "markdown",
   "metadata": {},
   "source": [
    "### Select features to build the model \n",
    "\n",
    "The GCL feature is equally present in both outcome instances and also contains a lot of missing values. Therefore, you can drop it from the list of features that you want to use for model build just like you dropped OCCP and POBP since those features had more than 10 unique categories."
   ]
  },
  {
   "cell_type": "code",
   "execution_count": 19,
   "metadata": {
    "tags": []
   },
   "outputs": [],
   "source": [
    "to_remove = [\"GCL\", \"OCCP\", \"POBP\"]\n",
    "\n",
    "# Drop to_remove features from the respective list(s) - if applicable\n",
    "for ft in to_remove:\n",
    "    if ft in model_features:\n",
    "        model_features.remove(ft)\n",
    "    if ft in categorical_features:\n",
    "        categorical_features.remove(ft)\n",
    "    if ft in numerical_features:\n",
    "        numerical_features.remove(ft)\n",
    "\n",
    "# Clean up the DataFrame and only keep the features and columns that are needed\n",
    "df = df[model_features + [model_target]].copy(deep=True)"
   ]
  },
  {
   "cell_type": "markdown",
   "metadata": {},
   "source": [
    "### Feature transformation\n",
    "\n",
    "In the paper [Certifying and Removing Disparate Impact](https://arxiv.org/pdf/1412.3756.pdf), a definition for disparate impact (DI) was introduced as the ratio of probability of positive outcomes for the disfavored group $(A=0)$ to the probability of positive outcomes for the favored group $(A=1)$:  \n",
    "\n",
    "$\\Large DI = \\frac{Pr(Y=y|A=0)}{Pr(Y=y|A=1)}$\n",
    "\n",
    "To be free of DI, the resulting value from the equation needs to be $>$0.8 (and as close to 1 as possible). However, achieving this can be difficult."
   ]
  },
  {
   "cell_type": "markdown",
   "metadata": {},
   "source": [
    "Run the following code cell, and look at the interactive visualization to compare two groups: triangles and circles. This example has a positive outcome (accepted) and a negative outcome (rejected). You might notice that the triangle group is favored because more than 50 percent of the triangles have historical records (truth) for \"accepted. At this point, you can calculate the DI by counting how many positive outcomes a group has divided by the group total. This will confirm that the triangle group is favored.\n",
    "\n",
    "Next, move the slider (which represents a classifier threshold) on the first plot to see if a threshold value exists where the probabilities to receive a positive (or negative) outcome are equal across groups.\n",
    "\n",
    "Notice that it's impossible to find one position where the probabilities for both groups are the same. This makes sense because the distributions of accepted/rejected differ by group. Therefore, a single threshold will not work equally well for both groups.\n",
    "\n",
    "At this point, you have different options, including the following:\n",
    "- Transform the data so that the distributions of the groups look more similar (DI remover).\n",
    "- Train a classifier and use different probability thresholds.\n",
    "\n",
    "In this notebook, you will see the transformation of data (DI remover). In another lab, you will see a postprocessing technique that uses different probability thresholds for different groups."
   ]
  },
  {
   "cell_type": "code",
   "execution_count": 20,
   "metadata": {
    "tags": []
   },
   "outputs": [
    {
     "data": {
      "text/html": [
       "\n",
       "        <script>var EqualityOfOddsJupy=function(){\"use strict\";var wt=document.createElement(\"style\");wt.textContent=`.decision-boundary-rect.svelte-eeid37{pointer-events:none}.decision-boundary-text.svelte-eeid37{font-family:Arial;text-transform:uppercase;stroke-linejoin:round;paint-order:stroke fill;stroke-width:3px;font-size:12px;color:#000;stroke:#fff}.decision-boundary-bar1.svelte-eeid37{cursor:pointer}.arrow-holder.svelte-eeid37{display:flex}#scatter-holder.svelte-1xd8ak0{height:100%;width:100%}.axis-label.svelte-1xd8ak0{font-size:12px}.axis-line.svelte-1xd8ak0{stroke-width:3;stroke:#000;fill:none}.axis-tick.svelte-1xd8ak0{stroke-width:1;stroke:#000;fill:none;opacity:.175;font-size:12px}.axis-text.svelte-1xd8ak0{font-family:Arial;font-size:12px}circle.svelte-1xd8ak0{stroke:#fff;stroke-width:1}polygon.svelte-1xd8ak0{stroke:#fff;stroke-width:.5}.axis-label.svelte-1yobmuj{font-size:12px}#stackedrect-holder.svelte-1yobmuj{height:100%;width:100%}.axis-line.svelte-1yobmuj{stroke-width:3;stroke:#000;fill:none}.axis-tick.svelte-1yobmuj{stroke-width:1;stroke:#000;fill:none;opacity:.175;font-size:9px}.axis-text.svelte-1yobmuj{font-family:Arial;font-size:12px}#charts1-container.svelte-sxx449{display:grid;margin:auto;height:45vh;width:100%;grid-template-columns:50% 50%;grid-gap:2%}#scatter1-container.svelte-sxx449,#output1-container.svelte-sxx449{max-height:45vh}\n",
       "`,document.head.appendChild(wt);function j(){}const Zn=e=>e;function vt(e,t){for(const n in t)e[n]=t[n];return e}function Pt(e){return e()}function kt(){return Object.create(null)}function Ae(e){e.forEach(Pt)}function $t(e){return typeof e==\"function\"}function ge(e,t){return e!=e?t==t:e!==t||e&&typeof e==\"object\"||typeof e==\"function\"}function Kn(e){return Object.keys(e).length===0}function Qn(e,...t){if(e==null)return j;const n=e.subscribe(...t);return n.unsubscribe?()=>n.unsubscribe():n}function J(e,t,n){e.$$.on_destroy.push(Qn(t,n))}function ne(e,t,n){return e.set(n),t}const At=typeof window<\"u\";let er=At?()=>window.performance.now():()=>Date.now(),Mt=At?e=>requestAnimationFrame(e):j;const re=new Set;function Nt(e){re.forEach(t=>{t.c(e)||(re.delete(t),t.f())}),re.size!==0&&Mt(Nt)}function tr(e){let t;return re.size===0&&Mt(Nt),{promise:new Promise(n=>{re.add(t={c:e,f:n})}),abort(){re.delete(t)}}}function A(e,t){e.appendChild(t)}function D(e,t,n){e.insertBefore(t,n||null)}function O(e){e.parentNode&&e.parentNode.removeChild(e)}function G(e,t){for(let n=0;n<e.length;n+=1)e[n]&&e[n].d(t)}function ie(e){return document.createElement(e)}function E(e){return document.createElementNS(\"http://www.w3.org/2000/svg\",e)}function q(e){return document.createTextNode(e)}function Q(){return q(\" \")}function oe(){return q(\"\")}function St(e,t,n,r){return e.addEventListener(t,n,r),()=>e.removeEventListener(t,n,r)}function a(e,t,n){n==null?e.removeAttribute(t):e.getAttribute(t)!==n&&e.setAttribute(t,n)}function nr(e){return Array.from(e.childNodes)}function Et(e,t){t=\"\"+t,e.data!==t&&(e.data=t)}let Me;function rr(){if(Me===void 0){Me=!1;try{typeof window<\"u\"&&window.parent&&window.parent.document}catch{Me=!0}}return Me}function Ct(e,t){getComputedStyle(e).position===\"static\"&&(e.style.position=\"relative\");const r=ie(\"iframe\");r.setAttribute(\"style\",\"display: block; position: absolute; top: 0; left: 0; width: 100%; height: 100%; overflow: hidden; border: 0; opacity: 0; pointer-events: none; z-index: -1;\"),r.setAttribute(\"aria-hidden\",\"true\"),r.tabIndex=-1;const i=rr();let o;return i?(r.src=\"data:text/html,<script>onresize=function(){parent.postMessage(0,'*')}<\\/script>\",o=St(window,\"message\",l=>{l.source===r.contentWindow&&t()})):(r.src=\"about:blank\",r.onload=()=>{o=St(r.contentWindow,\"resize\",t),t()}),A(e,r),()=>{(i||o&&r.contentWindow)&&o(),O(r)}}let pe;function me(e){pe=e}function ir(){if(!pe)throw new Error(\"Function called outside component initialization\");return pe}function or(e){ir().$$.on_mount.push(e)}const le=[],zt=[];let se=[];const Rt=[],lr=Promise.resolve();let Ye=!1;function sr(){Ye||(Ye=!0,lr.then(Ot))}function ye(e){se.push(e)}const Ge=new Set;let ae=0;function Ot(){if(ae!==0)return;const e=pe;do{try{for(;ae<le.length;){const t=le[ae];ae++,me(t),ar(t.$$)}}catch(t){throw le.length=0,ae=0,t}for(me(null),le.length=0,ae=0;zt.length;)zt.pop()();for(let t=0;t<se.length;t+=1){const n=se[t];Ge.has(n)||(Ge.add(n),n())}se.length=0}while(le.length);for(;Rt.length;)Rt.pop()();Ye=!1,Ge.clear(),me(e)}function ar(e){if(e.fragment!==null){e.update(),Ae(e.before_update);const t=e.dirty;e.dirty=[-1],e.fragment&&e.fragment.p(e.ctx,t),e.after_update.forEach(ye)}}function ur(e){const t=[],n=[];se.forEach(r=>e.indexOf(r)===-1?t.push(r):n.push(r)),n.forEach(r=>r()),se=t}const Ne=new Set;let fr;function Se(e,t){e&&e.i&&(Ne.delete(e),e.i(t))}function Ze(e,t,n,r){if(e&&e.o){if(Ne.has(e))return;Ne.add(e),fr.c.push(()=>{Ne.delete(e),r&&(n&&e.d(1),r())}),e.o(t)}else r&&r()}function Ke(e){e&&e.c()}function Ee(e,t,n,r){const{fragment:i,after_update:o}=e.$$;i&&i.m(t,n),r||ye(()=>{const l=e.$$.on_mount.map(Pt).filter($t);e.$$.on_destroy?e.$$.on_destroy.push(...l):Ae(l),e.$$.on_mount=[]}),o.forEach(ye)}function Ce(e,t){const n=e.$$;n.fragment!==null&&(ur(n.after_update),Ae(n.on_destroy),n.fragment&&n.fragment.d(t),n.on_destroy=n.fragment=null,n.ctx=[])}function cr(e,t){e.$$.dirty[0]===-1&&(le.push(e),sr(),e.$$.dirty.fill(0)),e.$$.dirty[t/31|0]|=1<<t%31}function ze(e,t,n,r,i,o,l,s=[-1]){const u=pe;me(e);const f=e.$$={fragment:null,ctx:[],props:o,update:j,not_equal:i,bound:kt(),on_mount:[],on_destroy:[],on_disconnect:[],before_update:[],after_update:[],context:new Map(t.context||(u?u.$$.context:[])),callbacks:kt(),dirty:s,skip_bound:!1,root:t.target||u.$$.root};l&&l(f.root);let g=!1;if(f.ctx=n?n(e,t.props||{},(c,h,..._)=>{const w=_.length?_[0]:h;return f.ctx&&i(f.ctx[c],f.ctx[c]=w)&&(!f.skip_bound&&f.bound[c]&&f.bound[c](w),g&&cr(e,c)),h}):[],f.update(),g=!0,Ae(f.before_update),f.fragment=r?r(f.ctx):!1,t.target){if(t.hydrate){const c=nr(t.target);f.fragment&&f.fragment.l(c),c.forEach(O)}else f.fragment&&f.fragment.c();t.intro&&Se(e.$$.fragment),Ee(e,t.target,t.anchor,t.customElement),Ot()}me(u)}class Re{$destroy(){Ce(this,1),this.$destroy=j}$on(t,n){if(!$t(n))return j;const r=this.$$.callbacks[t]||(this.$$.callbacks[t]=[]);return r.push(n),()=>{const i=r.indexOf(n);i!==-1&&r.splice(i,1)}}$set(t){this.$$set&&!Kn(t)&&(this.$$.skip_bound=!0,this.$$set(t),this.$$.skip_bound=!1)}}function Oe(e,t){return e==null||t==null?NaN:e<t?-1:e>t?1:e>=t?0:NaN}function hr(e,t){return e==null||t==null?NaN:t<e?-1:t>e?1:t>=e?0:NaN}function Dt(e){let t,n,r;e.length!==2?(t=Oe,n=(s,u)=>Oe(e(s),u),r=(s,u)=>e(s)-u):(t=e===Oe||e===hr?e:dr,n=e,r=e);function i(s,u,f=0,g=s.length){if(f<g){if(t(u,u)!==0)return g;do{const c=f+g>>>1;n(s[c],u)<0?f=c+1:g=c}while(f<g)}return f}function o(s,u,f=0,g=s.length){if(f<g){if(t(u,u)!==0)return g;do{const c=f+g>>>1;n(s[c],u)<=0?f=c+1:g=c}while(f<g)}return f}function l(s,u,f=0,g=s.length){const c=i(s,u,f,g-1);return c>f&&r(s[c-1],u)>-r(s[c],u)?c-1:c}return{left:i,center:l,right:o}}function dr(){return 0}function gr(e){return e===null?NaN:+e}const pr=Dt(Oe).right;Dt(gr).center;const mr=pr;function yr(e,t){let n,r;if(t===void 0)for(const i of e)i!=null&&(n===void 0?i>=i&&(n=r=i):(n>i&&(n=i),r<i&&(r=i)));else{let i=-1;for(let o of e)(o=t(o,++i,e))!=null&&(n===void 0?o>=o&&(n=r=o):(n>o&&(n=o),r<o&&(r=o)))}return[n,r]}class Bt extends Map{constructor(t,n=xr){if(super(),Object.defineProperties(this,{_intern:{value:new Map},_key:{value:n}}),t!=null)for(const[r,i]of t)this.set(r,i)}get(t){return super.get(Tt(this,t))}has(t){return super.has(Tt(this,t))}set(t,n){return super.set(_r(this,t),n)}delete(t){return super.delete(br(this,t))}}function Tt({_intern:e,_key:t},n){const r=t(n);return e.has(r)?e.get(r):n}function _r({_intern:e,_key:t},n){const r=t(n);return e.has(r)?e.get(r):(e.set(r,n),n)}function br({_intern:e,_key:t},n){const r=t(n);return e.has(r)&&(n=e.get(r),e.delete(r)),n}function xr(e){return e!==null&&typeof e==\"object\"?e.valueOf():e}const wr=Math.sqrt(50),vr=Math.sqrt(10),Pr=Math.sqrt(2);function De(e,t,n){const r=(t-e)/Math.max(0,n),i=Math.floor(Math.log10(r)),o=r/Math.pow(10,i),l=o>=wr?10:o>=vr?5:o>=Pr?2:1;let s,u,f;return i<0?(f=Math.pow(10,-i)/l,s=Math.round(e*f),u=Math.round(t*f),s/f<e&&++s,u/f>t&&--u,f=-f):(f=Math.pow(10,i)*l,s=Math.round(e/f),u=Math.round(t/f),s*f<e&&++s,u*f>t&&--u),u<s&&.5<=n&&n<2?De(e,t,n*2):[s,u,f]}function kr(e,t,n){if(t=+t,e=+e,n=+n,!(n>0))return[];if(e===t)return[e];const r=t<e,[i,o,l]=r?De(t,e,n):De(e,t,n);if(!(o>=i))return[];const s=o-i+1,u=new Array(s);if(r)if(l<0)for(let f=0;f<s;++f)u[f]=(o-f)/-l;else for(let f=0;f<s;++f)u[f]=(o-f)*l;else if(l<0)for(let f=0;f<s;++f)u[f]=(i+f)/-l;else for(let f=0;f<s;++f)u[f]=(i+f)*l;return u}function Qe(e,t,n){return t=+t,e=+e,n=+n,De(e,t,n)[2]}function $r(e,t,n){t=+t,e=+e,n=+n;const r=t<e,i=r?Qe(t,e,n):Qe(e,t,n);return(r?-1:1)*(i<0?1/-i:i)}function Ht(e,t){let n;if(t===void 0)for(const r of e)r!=null&&(n<r||n===void 0&&r>=r)&&(n=r);else{let r=-1;for(let i of e)(i=t(i,++r,e))!=null&&(n<i||n===void 0&&i>=i)&&(n=i)}return n}function Ar(e,t){let n;if(t===void 0)for(const r of e)r!=null&&(n>r||n===void 0&&r>=r)&&(n=r);else{let r=-1;for(let i of e)(i=t(i,++r,e))!=null&&(n>i||n===void 0&&i>=i)&&(n=i)}return n}function Mr(e,t,n){e=+e,t=+t,n=(i=arguments.length)<2?(t=e,e=0,1):i<3?1:+n;for(var r=-1,i=Math.max(0,Math.ceil((t-e)/n))|0,o=new Array(i);++r<i;)o[r]=e+r*n;return o}function et(e,t){switch(arguments.length){case 0:break;case 1:this.range(e);break;default:this.range(t).domain(e);break}return this}const Lt=Symbol(\"implicit\");function Be(){var e=new Bt,t=[],n=[],r=Lt;function i(o){let l=e.get(o);if(l===void 0){if(r!==Lt)return r;e.set(o,l=t.push(o)-1)}return n[l%n.length]}return i.domain=function(o){if(!arguments.length)return t.slice();t=[],e=new Bt;for(const l of o)e.has(l)||e.set(l,t.push(l)-1);return i},i.range=function(o){return arguments.length?(n=Array.from(o),i):n.slice()},i.unknown=function(o){return arguments.length?(r=o,i):r},i.copy=function(){return Be(t,n).unknown(r)},et.apply(i,arguments),i}function Vt(){var e=Be().unknown(void 0),t=e.domain,n=e.range,r=0,i=1,o,l,s=!1,u=0,f=0,g=.5;delete e.unknown;function c(){var h=t().length,_=i<r,w=_?i:r,C=_?r:i;o=(C-w)/Math.max(1,h-u+f*2),s&&(o=Math.floor(o)),w+=(C-w-o*(h-u))*g,l=o*(1-u),s&&(w=Math.round(w),l=Math.round(l));var N=Mr(h).map(function(S){return w+o*S});return n(_?N.reverse():N)}return e.domain=function(h){return arguments.length?(t(h),c()):t()},e.range=function(h){return arguments.length?([r,i]=h,r=+r,i=+i,c()):[r,i]},e.rangeRound=function(h){return[r,i]=h,r=+r,i=+i,s=!0,c()},e.bandwidth=function(){return l},e.step=function(){return o},e.round=function(h){return arguments.length?(s=!!h,c()):s},e.padding=function(h){return arguments.length?(u=Math.min(1,f=+h),c()):u},e.paddingInner=function(h){return arguments.length?(u=Math.min(1,h),c()):u},e.paddingOuter=function(h){return arguments.length?(f=+h,c()):f},e.align=function(h){return arguments.length?(g=Math.max(0,Math.min(1,h)),c()):g},e.copy=function(){return Vt(t(),[r,i]).round(s).paddingInner(u).paddingOuter(f).align(g)},et.apply(c(),arguments)}function tt(e,t,n){e.prototype=t.prototype=n,n.constructor=e}function qt(e,t){var n=Object.create(e.prototype);for(var r in t)n[r]=t[r];return n}function _e(){}var be=.7,Te=1/be,ue=\"\\s*([+-]?\\d+)\\s*\",xe=\"\\s*([+-]?(?:\\d*\\.)?\\d+(?:[eE][+-]?\\d+)?)\\s*\",X=\"\\s*([+-]?(?:\\d*\\.)?\\d+(?:[eE][+-]?\\d+)?)%\\s*\",Nr=/^#([0-9a-f]{3,8})$/,Sr=new RegExp(`^rgb\\(${ue},${ue},${ue}\\)$`),Er=new RegExp(`^rgb\\(${X},${X},${X}\\)$`),Cr=new RegExp(`^rgba\\(${ue},${ue},${ue},${xe}\\)$`),zr=new RegExp(`^rgba\\(${X},${X},${X},${xe}\\)$`),Rr=new RegExp(`^hsl\\(${xe},${X},${X}\\)$`),Or=new RegExp(`^hsla\\(${xe},${X},${X},${xe}\\)$`),jt={aliceblue:15792383,antiquewhite:16444375,aqua:65535,aquamarine:8388564,azure:15794175,beige:16119260,bisque:16770244,black:0,blanchedalmond:16772045,blue:255,blueviolet:9055202,brown:10824234,burlywood:14596231,cadetblue:6266528,chartreuse:8388352,chocolate:13789470,coral:16744272,cornflowerblue:6591981,cornsilk:16775388,crimson:14423100,cyan:65535,darkblue:139,darkcyan:35723,darkgoldenrod:12092939,darkgray:11119017,darkgreen:25600,darkgrey:11119017,darkkhaki:12433259,darkmagenta:9109643,darkolivegreen:5597999,darkorange:16747520,darkorchid:10040012,darkred:9109504,darksalmon:15308410,darkseagreen:9419919,darkslateblue:4734347,darkslategray:3100495,darkslategrey:3100495,darkturquoise:52945,darkviolet:9699539,deeppink:16716947,deepskyblue:49151,dimgray:6908265,dimgrey:6908265,dodgerblue:2003199,firebrick:11674146,floralwhite:16775920,forestgreen:2263842,fuchsia:16711935,gainsboro:14474460,ghostwhite:16316671,gold:16766720,goldenrod:14329120,gray:8421504,green:32768,greenyellow:11403055,grey:8421504,honeydew:15794160,hotpink:16738740,indianred:13458524,indigo:4915330,ivory:16777200,khaki:15787660,lavender:15132410,lavenderblush:16773365,lawngreen:8190976,lemonchiffon:16775885,lightblue:11393254,lightcoral:15761536,lightcyan:14745599,lightgoldenrodyellow:16448210,lightgray:13882323,lightgreen:9498256,lightgrey:13882323,lightpink:16758465,lightsalmon:16752762,lightseagreen:2142890,lightskyblue:8900346,lightslategray:7833753,lightslategrey:7833753,lightsteelblue:11584734,lightyellow:16777184,lime:65280,limegreen:3329330,linen:16445670,magenta:16711935,maroon:8388608,mediumaquamarine:6737322,mediumblue:205,mediumorchid:12211667,mediumpurple:9662683,mediumseagreen:3978097,mediumslateblue:8087790,mediumspringgreen:64154,mediumturquoise:4772300,mediumvioletred:13047173,midnightblue:1644912,mintcream:16121850,mistyrose:16770273,moccasin:16770229,navajowhite:16768685,navy:128,oldlace:16643558,olive:8421376,olivedrab:7048739,orange:16753920,orangered:16729344,orchid:14315734,palegoldenrod:15657130,palegreen:10025880,paleturquoise:11529966,palevioletred:14381203,papayawhip:16773077,peachpuff:16767673,peru:13468991,pink:16761035,plum:14524637,powderblue:11591910,purple:8388736,rebeccapurple:6697881,red:16711680,rosybrown:12357519,royalblue:4286945,saddlebrown:9127187,salmon:16416882,sandybrown:16032864,seagreen:3050327,seashell:16774638,sienna:10506797,silver:12632256,skyblue:8900331,slateblue:6970061,slategray:7372944,slategrey:7372944,snow:16775930,springgreen:65407,steelblue:4620980,tan:13808780,teal:32896,thistle:14204888,tomato:16737095,turquoise:4251856,violet:15631086,wheat:16113331,white:16777215,whitesmoke:16119285,yellow:16776960,yellowgreen:10145074};tt(_e,we,{copy(e){return Object.assign(new this.constructor,this,e)},displayable(){return this.rgb().displayable()},hex:It,formatHex:It,formatHex8:Dr,formatHsl:Br,formatRgb:Ft,toString:Ft});function It(){return this.rgb().formatHex()}function Dr(){return this.rgb().formatHex8()}function Br(){return Yt(this).formatHsl()}function Ft(){return this.rgb().formatRgb()}function we(e){var t,n;return e=(e+\"\").trim().toLowerCase(),(t=Nr.exec(e))?(n=t[1].length,t=parseInt(t[1],16),n===6?Wt(t):n===3?new I(t>>8&15|t>>4&240,t>>4&15|t&240,(t&15)<<4|t&15,1):n===8?He(t>>24&255,t>>16&255,t>>8&255,(t&255)/255):n===4?He(t>>12&15|t>>8&240,t>>8&15|t>>4&240,t>>4&15|t&240,((t&15)<<4|t&15)/255):null):(t=Sr.exec(e))?new I(t[1],t[2],t[3],1):(t=Er.exec(e))?new I(t[1]*255/100,t[2]*255/100,t[3]*255/100,1):(t=Cr.exec(e))?He(t[1],t[2],t[3],t[4]):(t=zr.exec(e))?He(t[1]*255/100,t[2]*255/100,t[3]*255/100,t[4]):(t=Rr.exec(e))?Xt(t[1],t[2]/100,t[3]/100,1):(t=Or.exec(e))?Xt(t[1],t[2]/100,t[3]/100,t[4]):jt.hasOwnProperty(e)?Wt(jt[e]):e===\"transparent\"?new I(NaN,NaN,NaN,0):null}function Wt(e){return new I(e>>16&255,e>>8&255,e&255,1)}function He(e,t,n,r){return r<=0&&(e=t=n=NaN),new I(e,t,n,r)}function Tr(e){return e instanceof _e||(e=we(e)),e?(e=e.rgb(),new I(e.r,e.g,e.b,e.opacity)):new I}function nt(e,t,n,r){return arguments.length===1?Tr(e):new I(e,t,n,r==null?1:r)}function I(e,t,n,r){this.r=+e,this.g=+t,this.b=+n,this.opacity=+r}tt(I,nt,qt(_e,{brighter(e){return e=e==null?Te:Math.pow(Te,e),new I(this.r*e,this.g*e,this.b*e,this.opacity)},darker(e){return e=e==null?be:Math.pow(be,e),new I(this.r*e,this.g*e,this.b*e,this.opacity)},rgb(){return this},clamp(){return new I(ee(this.r),ee(this.g),ee(this.b),Le(this.opacity))},displayable(){return-.5<=this.r&&this.r<255.5&&-.5<=this.g&&this.g<255.5&&-.5<=this.b&&this.b<255.5&&0<=this.opacity&&this.opacity<=1},hex:Jt,formatHex:Jt,formatHex8:Hr,formatRgb:Ut,toString:Ut}));function Jt(){return`#${te(this.r)}${te(this.g)}${te(this.b)}`}function Hr(){return`#${te(this.r)}${te(this.g)}${te(this.b)}${te((isNaN(this.opacity)?1:this.opacity)*255)}`}function Ut(){const e=Le(this.opacity);return`${e===1?\"rgb(\":\"rgba(\"}${ee(this.r)}, ${ee(this.g)}, ${ee(this.b)}${e===1?\")\":`, ${e})`}`}function Le(e){return isNaN(e)?1:Math.max(0,Math.min(1,e))}function ee(e){return Math.max(0,Math.min(255,Math.round(e)||0))}function te(e){return e=ee(e),(e<16?\"0\":\"\")+e.toString(16)}function Xt(e,t,n,r){return r<=0?e=t=n=NaN:n<=0||n>=1?e=t=NaN:t<=0&&(e=NaN),new U(e,t,n,r)}function Yt(e){if(e instanceof U)return new U(e.h,e.s,e.l,e.opacity);if(e instanceof _e||(e=we(e)),!e)return new U;if(e instanceof U)return e;e=e.rgb();var t=e.r/255,n=e.g/255,r=e.b/255,i=Math.min(t,n,r),o=Math.max(t,n,r),l=NaN,s=o-i,u=(o+i)/2;return s?(t===o?l=(n-r)/s+(n<r)*6:n===o?l=(r-t)/s+2:l=(t-n)/s+4,s/=u<.5?o+i:2-o-i,l*=60):s=u>0&&u<1?0:l,new U(l,s,u,e.opacity)}function Lr(e,t,n,r){return arguments.length===1?Yt(e):new U(e,t,n,r==null?1:r)}function U(e,t,n,r){this.h=+e,this.s=+t,this.l=+n,this.opacity=+r}tt(U,Lr,qt(_e,{brighter(e){return e=e==null?Te:Math.pow(Te,e),new U(this.h,this.s,this.l*e,this.opacity)},darker(e){return e=e==null?be:Math.pow(be,e),new U(this.h,this.s,this.l*e,this.opacity)},rgb(){var e=this.h%360+(this.h<0)*360,t=isNaN(e)||isNaN(this.s)?0:this.s,n=this.l,r=n+(n<.5?n:1-n)*t,i=2*n-r;return new I(rt(e>=240?e-240:e+120,i,r),rt(e,i,r),rt(e<120?e+240:e-120,i,r),this.opacity)},clamp(){return new U(Gt(this.h),Ve(this.s),Ve(this.l),Le(this.opacity))},displayable(){return(0<=this.s&&this.s<=1||isNaN(this.s))&&0<=this.l&&this.l<=1&&0<=this.opacity&&this.opacity<=1},formatHsl(){const e=Le(this.opacity);return`${e===1?\"hsl(\":\"hsla(\"}${Gt(this.h)}, ${Ve(this.s)*100}%, ${Ve(this.l)*100}%${e===1?\")\":`, ${e})`}`}}));function Gt(e){return e=(e||0)%360,e<0?e+360:e}function Ve(e){return Math.max(0,Math.min(1,e||0))}function rt(e,t,n){return(e<60?t+(n-t)*e/60:e<180?n:e<240?t+(n-t)*(240-e)/60:t)*255}const it=e=>()=>e;function Vr(e,t){return function(n){return e+n*t}}function qr(e,t,n){return e=Math.pow(e,n),t=Math.pow(t,n)-e,n=1/n,function(r){return Math.pow(e+r*t,n)}}function jr(e){return(e=+e)==1?Zt:function(t,n){return n-t?qr(t,n,e):it(isNaN(t)?n:t)}}function Zt(e,t){var n=t-e;return n?Vr(e,n):it(isNaN(e)?t:e)}const Kt=function e(t){var n=jr(t);function r(i,o){var l=n((i=nt(i)).r,(o=nt(o)).r),s=n(i.g,o.g),u=n(i.b,o.b),f=Zt(i.opacity,o.opacity);return function(g){return i.r=l(g),i.g=s(g),i.b=u(g),i.opacity=f(g),i+\"\"}}return r.gamma=e,r}(1);function Ir(e,t){t||(t=[]);var n=e?Math.min(t.length,e.length):0,r=t.slice(),i;return function(o){for(i=0;i<n;++i)r[i]=e[i]*(1-o)+t[i]*o;return r}}function Fr(e){return ArrayBuffer.isView(e)&&!(e instanceof DataView)}function Wr(e,t){var n=t?t.length:0,r=e?Math.min(n,e.length):0,i=new Array(r),o=new Array(n),l;for(l=0;l<r;++l)i[l]=st(e[l],t[l]);for(;l<n;++l)o[l]=t[l];return function(s){for(l=0;l<r;++l)o[l]=i[l](s);return o}}function Jr(e,t){var n=new Date;return e=+e,t=+t,function(r){return n.setTime(e*(1-r)+t*r),n}}function qe(e,t){return e=+e,t=+t,function(n){return e*(1-n)+t*n}}function Ur(e,t){var n={},r={},i;(e===null||typeof e!=\"object\")&&(e={}),(t===null||typeof t!=\"object\")&&(t={});for(i in t)i in e?n[i]=st(e[i],t[i]):r[i]=t[i];return function(o){for(i in n)r[i]=n[i](o);return r}}var ot=/[-+]?(?:\\d+\\.?\\d*|\\.?\\d+)(?:[eE][-+]?\\d+)?/g,lt=new RegExp(ot.source,\"g\");function Xr(e){return function(){return e}}function Yr(e){return function(t){return e(t)+\"\"}}function Gr(e,t){var n=ot.lastIndex=lt.lastIndex=0,r,i,o,l=-1,s=[],u=[];for(e=e+\"\",t=t+\"\";(r=ot.exec(e))&&(i=lt.exec(t));)(o=i.index)>n&&(o=t.slice(n,o),s[l]?s[l]+=o:s[++l]=o),(r=r[0])===(i=i[0])?s[l]?s[l]+=i:s[++l]=i:(s[++l]=null,u.push({i:l,x:qe(r,i)})),n=lt.lastIndex;return n<t.length&&(o=t.slice(n),s[l]?s[l]+=o:s[++l]=o),s.length<2?u[0]?Yr(u[0].x):Xr(t):(t=u.length,function(f){for(var g=0,c;g<t;++g)s[(c=u[g]).i]=c.x(f);return s.join(\"\")})}function st(e,t){var n=typeof t,r;return t==null||n===\"boolean\"?it(t):(n===\"number\"?qe:n===\"string\"?(r=we(t))?(t=r,Kt):Gr:t instanceof we?Kt:t instanceof Date?Jr:Fr(t)?Ir:Array.isArray(t)?Wr:typeof t.valueOf!=\"function\"&&typeof t.toString!=\"function\"||isNaN(t)?Ur:qe)(e,t)}function Zr(e,t){return e=+e,t=+t,function(n){return Math.round(e*(1-n)+t*n)}}function Kr(e){return function(){return e}}function Qr(e){return+e}var Qt=[0,1];function fe(e){return e}function at(e,t){return(t-=e=+e)?function(n){return(n-e)/t}:Kr(isNaN(t)?NaN:.5)}function ei(e,t){var n;return e>t&&(n=e,e=t,t=n),function(r){return Math.max(e,Math.min(t,r))}}function ti(e,t,n){var r=e[0],i=e[1],o=t[0],l=t[1];return i<r?(r=at(i,r),o=n(l,o)):(r=at(r,i),o=n(o,l)),function(s){return o(r(s))}}function ni(e,t,n){var r=Math.min(e.length,t.length)-1,i=new Array(r),o=new Array(r),l=-1;for(e[r]<e[0]&&(e=e.slice().reverse(),t=t.slice().reverse());++l<r;)i[l]=at(e[l],e[l+1]),o[l]=n(t[l],t[l+1]);return function(s){var u=mr(e,s,1,r)-1;return o[u](i[u](s))}}function ri(e,t){return t.domain(e.domain()).range(e.range()).interpolate(e.interpolate()).clamp(e.clamp()).unknown(e.unknown())}function ii(){var e=Qt,t=Qt,n=st,r,i,o,l=fe,s,u,f;function g(){var h=Math.min(e.length,t.length);return l!==fe&&(l=ei(e[0],e[h-1])),s=h>2?ni:ti,u=f=null,c}function c(h){return h==null||isNaN(h=+h)?o:(u||(u=s(e.map(r),t,n)))(r(l(h)))}return c.invert=function(h){return l(i((f||(f=s(t,e.map(r),qe)))(h)))},c.domain=function(h){return arguments.length?(e=Array.from(h,Qr),g()):e.slice()},c.range=function(h){return arguments.length?(t=Array.from(h),g()):t.slice()},c.rangeRound=function(h){return t=Array.from(h),n=Zr,g()},c.clamp=function(h){return arguments.length?(l=h?!0:fe,g()):l!==fe},c.interpolate=function(h){return arguments.length?(n=h,g()):n},c.unknown=function(h){return arguments.length?(o=h,c):o},function(h,_){return r=h,i=_,g()}}function oi(){return ii()(fe,fe)}function li(e){return Math.abs(e=Math.round(e))>=1e21?e.toLocaleString(\"en\").replace(/,/g,\"\"):e.toString(10)}function je(e,t){if((n=(e=t?e.toExponential(t-1):e.toExponential()).indexOf(\"e\"))<0)return null;var n,r=e.slice(0,n);return[r.length>1?r[0]+r.slice(2):r,+e.slice(n+1)]}function ce(e){return e=je(Math.abs(e)),e?e[1]:NaN}function si(e,t){return function(n,r){for(var i=n.length,o=[],l=0,s=e[0],u=0;i>0&&s>0&&(u+s+1>r&&(s=Math.max(1,r-u)),o.push(n.substring(i-=s,i+s)),!((u+=s+1)>r));)s=e[l=(l+1)%e.length];return o.reverse().join(t)}}function ai(e){return function(t){return t.replace(/[0-9]/g,function(n){return e[+n]})}}var ui=/^(?:(.)?([<>=^]))?([+\\-( ])?([$#])?(0)?(\\d+)?(,)?(\\.\\d+)?(~)?([a-z%])?$/i;function Ie(e){if(!(t=ui.exec(e)))throw new Error(\"invalid format: \"+e);var t;return new ut({fill:t[1],align:t[2],sign:t[3],symbol:t[4],zero:t[5],width:t[6],comma:t[7],precision:t[8]&&t[8].slice(1),trim:t[9],type:t[10]})}Ie.prototype=ut.prototype;function ut(e){this.fill=e.fill===void 0?\" \":e.fill+\"\",this.align=e.align===void 0?\">\":e.align+\"\",this.sign=e.sign===void 0?\"-\":e.sign+\"\",this.symbol=e.symbol===void 0?\"\":e.symbol+\"\",this.zero=!!e.zero,this.width=e.width===void 0?void 0:+e.width,this.comma=!!e.comma,this.precision=e.precision===void 0?void 0:+e.precision,this.trim=!!e.trim,this.type=e.type===void 0?\"\":e.type+\"\"}ut.prototype.toString=function(){return this.fill+this.align+this.sign+this.symbol+(this.zero?\"0\":\"\")+(this.width===void 0?\"\":Math.max(1,this.width|0))+(this.comma?\",\":\"\")+(this.precision===void 0?\"\":\".\"+Math.max(0,this.precision|0))+(this.trim?\"~\":\"\")+this.type};function fi(e){e:for(var t=e.length,n=1,r=-1,i;n<t;++n)switch(e[n]){case\".\":r=i=n;break;case\"0\":r===0&&(r=n),i=n;break;default:if(!+e[n])break e;r>0&&(r=0);break}return r>0?e.slice(0,r)+e.slice(i+1):e}var en;function ci(e,t){var n=je(e,t);if(!n)return e+\"\";var r=n[0],i=n[1],o=i-(en=Math.max(-8,Math.min(8,Math.floor(i/3)))*3)+1,l=r.length;return o===l?r:o>l?r+new Array(o-l+1).join(\"0\"):o>0?r.slice(0,o)+\".\"+r.slice(o):\"0.\"+new Array(1-o).join(\"0\")+je(e,Math.max(0,t+o-1))[0]}function tn(e,t){var n=je(e,t);if(!n)return e+\"\";var r=n[0],i=n[1];return i<0?\"0.\"+new Array(-i).join(\"0\")+r:r.length>i+1?r.slice(0,i+1)+\".\"+r.slice(i+1):r+new Array(i-r.length+2).join(\"0\")}const nn={\"%\":(e,t)=>(e*100).toFixed(t),b:e=>Math.round(e).toString(2),c:e=>e+\"\",d:li,e:(e,t)=>e.toExponential(t),f:(e,t)=>e.toFixed(t),g:(e,t)=>e.toPrecision(t),o:e=>Math.round(e).toString(8),p:(e,t)=>tn(e*100,t),r:tn,s:ci,X:e=>Math.round(e).toString(16).toUpperCase(),x:e=>Math.round(e).toString(16)};function rn(e){return e}var on=Array.prototype.map,ln=[\"y\",\"z\",\"a\",\"f\",\"p\",\"n\",\"µ\",\"m\",\"\",\"k\",\"M\",\"G\",\"T\",\"P\",\"E\",\"Z\",\"Y\"];function hi(e){var t=e.grouping===void 0||e.thousands===void 0?rn:si(on.call(e.grouping,Number),e.thousands+\"\"),n=e.currency===void 0?\"\":e.currency[0]+\"\",r=e.currency===void 0?\"\":e.currency[1]+\"\",i=e.decimal===void 0?\".\":e.decimal+\"\",o=e.numerals===void 0?rn:ai(on.call(e.numerals,String)),l=e.percent===void 0?\"%\":e.percent+\"\",s=e.minus===void 0?\"−\":e.minus+\"\",u=e.nan===void 0?\"NaN\":e.nan+\"\";function f(c){c=Ie(c);var h=c.fill,_=c.align,w=c.sign,C=c.symbol,N=c.zero,S=c.width,v=c.comma,k=c.precision,m=c.trim,d=c.type;d===\"n\"?(v=!0,d=\"g\"):nn[d]||(k===void 0&&(k=12),m=!0,d=\"g\"),(N||h===\"0\"&&_===\"=\")&&(N=!0,h=\"0\",_=\"=\");var $=C===\"$\"?n:C===\"#\"&&/[boxX]/.test(d)?\"0\"+d.toLowerCase():\"\",p=C===\"$\"?r:/[%p]/.test(d)?l:\"\",y=nn[d],R=/[defgprs%]/.test(d);k=k===void 0?6:/[gprs]/.test(d)?Math.max(1,Math.min(21,k)):Math.max(0,Math.min(20,k));function b(P){var V=$,H=p,B,W,T;if(d===\"c\")H=y(P)+H,P=\"\";else{P=+P;var x=P<0||1/P<0;if(P=isNaN(P)?u:y(Math.abs(P),k),m&&(P=fi(P)),x&&+P==0&&w!==\"+\"&&(x=!1),V=(x?w===\"(\"?w:s:w===\"-\"||w===\"(\"?\"\":w)+V,H=(d===\"s\"?ln[8+en/3]:\"\")+H+(x&&w===\"(\"?\")\":\"\"),R){for(B=-1,W=P.length;++B<W;)if(T=P.charCodeAt(B),48>T||T>57){H=(T===46?i+P.slice(B+1):P.slice(B))+H,P=P.slice(0,B);break}}}v&&!N&&(P=t(P,1/0));var z=V.length+P.length+H.length,M=z<S?new Array(S-z+1).join(h):\"\";switch(v&&N&&(P=t(M+P,M.length?S-H.length:1/0),M=\"\"),_){case\"<\":P=V+P+H+M;break;case\"=\":P=V+M+P+H;break;case\"^\":P=M.slice(0,z=M.length>>1)+V+P+H+M.slice(z);break;default:P=M+V+P+H;break}return o(P)}return b.toString=function(){return c+\"\"},b}function g(c,h){var _=f((c=Ie(c),c.type=\"f\",c)),w=Math.max(-8,Math.min(8,Math.floor(ce(h)/3)))*3,C=Math.pow(10,-w),N=ln[8+w/3];return function(S){return _(C*S)+N}}return{format:f,formatPrefix:g}}var Fe,ft,sn;di({thousands:\",\",grouping:[3],currency:[\"$\",\"\"]});function di(e){return Fe=hi(e),ft=Fe.format,sn=Fe.formatPrefix,Fe}function gi(e){return Math.max(0,-ce(Math.abs(e)))}function pi(e,t){return Math.max(0,Math.max(-8,Math.min(8,Math.floor(ce(t)/3)))*3-ce(Math.abs(e)))}function mi(e,t){return e=Math.abs(e),t=Math.abs(t)-e,Math.max(0,ce(t)-ce(e))+1}function yi(e,t,n,r){var i=$r(e,t,n),o;switch(r=Ie(r==null?\",f\":r),r.type){case\"s\":{var l=Math.max(Math.abs(e),Math.abs(t));return r.precision==null&&!isNaN(o=pi(i,l))&&(r.precision=o),sn(r,l)}case\"\":case\"e\":case\"g\":case\"p\":case\"r\":{r.precision==null&&!isNaN(o=mi(i,Math.max(Math.abs(e),Math.abs(t))))&&(r.precision=o-(r.type===\"e\"));break}case\"f\":case\"%\":{r.precision==null&&!isNaN(o=gi(i))&&(r.precision=o-(r.type===\"%\")*2);break}}return ft(r)}function _i(e){var t=e.domain;return e.ticks=function(n){var r=t();return kr(r[0],r[r.length-1],n==null?10:n)},e.tickFormat=function(n,r){var i=t();return yi(i[0],i[i.length-1],n==null?10:n,r)},e.nice=function(n){n==null&&(n=10);var r=t(),i=0,o=r.length-1,l=r[i],s=r[o],u,f,g=10;for(s<l&&(f=l,l=s,s=f,f=i,i=o,o=f);g-- >0;){if(f=Qe(l,s,n),f===u)return r[i]=l,r[o]=s,t(r);if(f>0)l=Math.floor(l/f)*f,s=Math.ceil(s/f)*f;else if(f<0)l=Math.ceil(l*f)/f,s=Math.floor(s*f)/f;else break;u=f}return e},e}function ve(){var e=oi();return e.copy=function(){return ri(e,ve())},et.apply(e,arguments),_i(e)}const Pe=[{xPos:.8,yPos:-.3571428571,label:1,group:\"circle\"},{xPos:.908,yPos:0,label:1,group:\"circle\"},{xPos:.648,yPos:-.5476190476,label:1,group:\"circle\"},{xPos:.861,yPos:-.0714285714,label:1,group:\"circle\"},{xPos:.637,yPos:.4047619048,label:1,group:\"circle\"},{xPos:.615,yPos:0,label:1,group:\"circle\"},{xPos:.67,yPos:.8333333333,label:1,group:\"circle\"},{xPos:.725,yPos:.0714285714,label:1,group:\"circle\"},{xPos:.537,yPos:-.2142857143,label:1,group:\"circle\"},{xPos:.742,yPos:.2142857143,label:1,group:\"circle\"},{xPos:.638,yPos:-.4047619048,label:1,group:\"circle\"},{xPos:.547,yPos:.3571428571,label:1,group:\"circle\"},{xPos:.508,yPos:-.0714285714,label:1,group:\"circle\"},{xPos:.675,yPos:-.8333333333,label:1,group:\"circle\"},{xPos:.527,yPos:.2142857143,label:1,group:\"circle\"},{xPos:.688,yPos:-.9761904762,label:1,group:\"circle\"},{xPos:.642,yPos:.5476190476,label:1,group:\"circle\"},{xPos:.964,yPos:.119047619,label:1,group:\"circle\"},{xPos:.495,yPos:-.2142857143,label:1,group:\"circle\"},{xPos:.83,yPos:.0714285714,label:1,group:\"circle\"},{xPos:.624,yPos:-.119047619,label:1,group:\"circle\"},{xPos:.627,yPos:.2619047619,label:1,group:\"circle\"},{xPos:.783,yPos:.3571428571,label:1,group:\"circle\"},{xPos:.95,yPos:-.119047619,label:1,group:\"circle\"},{xPos:.733,yPos:-.0714285714,label:1,group:\"circle\"},{xPos:.505,yPos:.0714285714,label:1,group:\"circle\"},{xPos:.65,yPos:.6904761905,label:1,group:\"circle\"},{xPos:.582,yPos:-.5,label:1,group:\"circle\"},{xPos:.432,yPos:.0714285714,label:1,group:\"circle\"},{xPos:.681,yPos:.9761904762,label:1,group:\"circle\"},{xPos:.188,yPos:-.119047619,label:0,group:\"circle\"},{xPos:.747,yPos:-.2142857143,label:0,group:\"circle\"},{xPos:.293,yPos:-.2142857143,label:0,group:\"circle\"},{xPos:.182,yPos:.119047619,label:0,group:\"circle\"},{xPos:.665,yPos:-.6904761905,label:0,group:\"circle\"},{xPos:.377,yPos:-.2142857143,label:0,group:\"circle\"},{xPos:.142,yPos:0,label:0,group:\"circle\"},{xPos:.05,yPos:0,label:0,group:\"circle\"},{xPos:.345,yPos:-.0714285714,label:0,group:\"circle\"},{xPos:.452,yPos:-.0714285714,label:0,group:\"circle\"},{xPos:.574,yPos:-.3571428571,label:0,group:\"circle\"},{xPos:.616,yPos:.119047619,label:0,group:\"circle\"},{xPos:.467,yPos:.2142857143,label:0,group:\"circle\"},{xPos:.334,yPos:.0714285714,label:0,group:\"circle\"},{xPos:.575,yPos:.5,label:0,group:\"circle\"},{xPos:.629,yPos:-.2619047619,label:0,group:\"circle\"},{xPos:.252,yPos:.0714285714,label:0,group:\"circle\"},{xPos:.36,yPos:.2142857143,label:0,group:\"circle\"},{xPos:.259,yPos:-.0714285714,label:0,group:\"circle\"},{xPos:.273,yPos:.2142857143,label:0,group:\"circle\"},{xPos:.805,yPos:0,label:1,group:\"triangle\"},{xPos:.95,yPos:-.25,label:1,group:\"triangle\"},{xPos:.53,yPos:-.25,label:1,group:\"triangle\"},{xPos:.914,yPos:.25,label:1,group:\"triangle\"},{xPos:.512,yPos:.25,label:1,group:\"triangle\"},{xPos:.47,yPos:-.25,label:1,group:\"triangle\"},{xPos:.571,yPos:-.75,label:1,group:\"triangle\"},{xPos:.67,yPos:-.25,label:1,group:\"triangle\"},{xPos:.33,yPos:.25,label:1,group:\"triangle\"},{xPos:.701,yPos:0,label:1,group:\"triangle\"},{xPos:.172,yPos:.75,label:0,group:\"triangle\"},{xPos:.063,yPos:-.75,label:0,group:\"triangle\"},{xPos:.036,yPos:-.25,label:0,group:\"triangle\"},{xPos:.217,yPos:0,label:0,group:\"triangle\"},{xPos:.039,yPos:.75,label:0,group:\"triangle\"},{xPos:.232,yPos:.4166666667,label:0,group:\"triangle\"},{xPos:.178,yPos:-.75,label:0,group:\"triangle\"},{xPos:.565,yPos:.75,label:0,group:\"triangle\"},{xPos:.05,yPos:.25,label:0,group:\"triangle\"},{xPos:.404,yPos:.25,label:0,group:\"triangle\"},{xPos:.156,yPos:.25,label:0,group:\"triangle\"},{xPos:.159,yPos:-.25,label:0,group:\"triangle\"},{xPos:.347,yPos:-.25,label:0,group:\"triangle\"},{xPos:.608,yPos:.25,label:0,group:\"triangle\"},{xPos:.287,yPos:-.4166666667,label:0,group:\"triangle\"}],he=[];function Z(e,t=j){let n;const r=new Set;function i(s){if(ge(e,s)&&(e=s,n)){const u=!he.length;for(const f of r)f[1](),he.push(f,e);if(u){for(let f=0;f<he.length;f+=2)he[f][0](he[f+1]);he.length=0}}}function o(s){i(s(e))}function l(s,u=j){const f=[s,u];return r.add(f),r.size===1&&(n=t(i)||j),s(e),()=>{r.delete(f),r.size===0&&n&&(n(),n=null)}}return{set:i,update:o,subscribe:l}}function an(e){return Object.prototype.toString.call(e)===\"[object Date]\"}function ct(e,t){if(e===t||e!==e)return()=>e;const n=typeof e;if(n!==typeof t||Array.isArray(e)!==Array.isArray(t))throw new Error(\"Cannot interpolate values of different type\");if(Array.isArray(e)){const r=t.map((i,o)=>ct(e[o],i));return i=>r.map(o=>o(i))}if(n===\"object\"){if(!e||!t)throw new Error(\"Object cannot be null\");if(an(e)&&an(t)){e=e.getTime(),t=t.getTime();const o=t-e;return l=>new Date(e+l*o)}const r=Object.keys(t),i={};return r.forEach(o=>{i[o]=ct(e[o],t[o])}),o=>{const l={};return r.forEach(s=>{l[s]=i[s](o)}),l}}if(n===\"number\"){const r=t-e;return i=>e+i*r}throw new Error(`Cannot interpolate ${n} values`)}function bi(e,t={}){const n=Z(e);let r,i=e;function o(l,s){if(e==null)return n.set(e=l),Promise.resolve();i=l;let u=r,f=!1,{delay:g=0,duration:c=400,easing:h=Zn,interpolate:_=ct}=vt(vt({},t),s);if(c===0)return u&&(u.abort(),u=null),n.set(e=i),Promise.resolve();const w=er()+g;let C;return r=tr(N=>{if(N<w)return!0;f||(C=_(e,l),typeof c==\"function\"&&(c=c(e,l)),f=!0),u&&(u.abort(),u=null);const S=N-w;return S>c?(n.set(e=l),!1):(n.set(e=C(h(S/c))),!0)}),r.promise}return{set:o,update:(l,s)=>o(l(i,e),s),subscribe:n.subscribe}}const un=Z({top:55,bottom:10,left:80,right:10}),ht=Z(300),dt=Z(300),gt=Z(.5),fn=Z(1),cn=Z(1),hn=Z(1),dn=Z(1),gn=bi([{xVal:\"A\",Accepted:30,Declined:20},{xVal:\"A Predicted\",Accepted:30,Declined:20},{xVal:\"B\",Accepted:10,Declined:15},{xVal:\"B Predicted\",Accepted:10,Declined:15}]);var xi={value:()=>{}};function pn(){for(var e=0,t=arguments.length,n={},r;e<t;++e){if(!(r=arguments[e]+\"\")||r in n||/[\\s.]/.test(r))throw new Error(\"illegal type: \"+r);n[r]=[]}return new We(n)}function We(e){this._=e}function wi(e,t){return e.trim().split(/^|\\s+/).map(function(n){var r=\"\",i=n.indexOf(\".\");if(i>=0&&(r=n.slice(i+1),n=n.slice(0,i)),n&&!t.hasOwnProperty(n))throw new Error(\"unknown type: \"+n);return{type:n,name:r}})}We.prototype=pn.prototype={constructor:We,on:function(e,t){var n=this._,r=wi(e+\"\",n),i,o=-1,l=r.length;if(arguments.length<2){for(;++o<l;)if((i=(e=r[o]).type)&&(i=vi(n[i],e.name)))return i;return}if(t!=null&&typeof t!=\"function\")throw new Error(\"invalid callback: \"+t);for(;++o<l;)if(i=(e=r[o]).type)n[i]=mn(n[i],e.name,t);else if(t==null)for(i in n)n[i]=mn(n[i],e.name,null);return this},copy:function(){var e={},t=this._;for(var n in t)e[n]=t[n].slice();return new We(e)},call:function(e,t){if((i=arguments.length-2)>0)for(var n=new Array(i),r=0,i,o;r<i;++r)n[r]=arguments[r+2];if(!this._.hasOwnProperty(e))throw new Error(\"unknown type: \"+e);for(o=this._[e],r=0,i=o.length;r<i;++r)o[r].value.apply(t,n)},apply:function(e,t,n){if(!this._.hasOwnProperty(e))throw new Error(\"unknown type: \"+e);for(var r=this._[e],i=0,o=r.length;i<o;++i)r[i].value.apply(t,n)}};function vi(e,t){for(var n=0,r=e.length,i;n<r;++n)if((i=e[n]).name===t)return i.value}function mn(e,t,n){for(var r=0,i=e.length;r<i;++r)if(e[r].name===t){e[r]=xi,e=e.slice(0,r).concat(e.slice(r+1));break}return n!=null&&e.push({name:t,value:n}),e}var pt=\"http://www.w3.org/1999/xhtml\";const yn={svg:\"http://www.w3.org/2000/svg\",xhtml:pt,xlink:\"http://www.w3.org/1999/xlink\",xml:\"http://www.w3.org/XML/1998/namespace\",xmlns:\"http://www.w3.org/2000/xmlns/\"};function _n(e){var t=e+=\"\",n=t.indexOf(\":\");return n>=0&&(t=e.slice(0,n))!==\"xmlns\"&&(e=e.slice(n+1)),yn.hasOwnProperty(t)?{space:yn[t],local:e}:e}function Pi(e){return function(){var t=this.ownerDocument,n=this.namespaceURI;return n===pt&&t.documentElement.namespaceURI===pt?t.createElement(e):t.createElementNS(n,e)}}function ki(e){return function(){return this.ownerDocument.createElementNS(e.space,e.local)}}function bn(e){var t=_n(e);return(t.local?ki:Pi)(t)}function $i(){}function xn(e){return e==null?$i:function(){return this.querySelector(e)}}function Ai(e){typeof e!=\"function\"&&(e=xn(e));for(var t=this._groups,n=t.length,r=new Array(n),i=0;i<n;++i)for(var o=t[i],l=o.length,s=r[i]=new Array(l),u,f,g=0;g<l;++g)(u=o[g])&&(f=e.call(u,u.__data__,g,o))&&(\"__data__\"in u&&(f.__data__=u.__data__),s[g]=f);return new F(r,this._parents)}function wn(e){return e==null?[]:Array.isArray(e)?e:Array.from(e)}function Mi(){return[]}function Ni(e){return e==null?Mi:function(){return this.querySelectorAll(e)}}function Si(e){return function(){return wn(e.apply(this,arguments))}}function Ei(e){typeof e==\"function\"?e=Si(e):e=Ni(e);for(var t=this._groups,n=t.length,r=[],i=[],o=0;o<n;++o)for(var l=t[o],s=l.length,u,f=0;f<s;++f)(u=l[f])&&(r.push(e.call(u,u.__data__,f,l)),i.push(u));return new F(r,i)}function Ci(e){return function(){return this.matches(e)}}function vn(e){return function(t){return t.matches(e)}}var zi=Array.prototype.find;function Ri(e){return function(){return zi.call(this.children,e)}}function Oi(){return this.firstElementChild}function Di(e){return this.select(e==null?Oi:Ri(typeof e==\"function\"?e:vn(e)))}var Bi=Array.prototype.filter;function Ti(){return Array.from(this.children)}function Hi(e){return function(){return Bi.call(this.children,e)}}function Li(e){return this.selectAll(e==null?Ti:Hi(typeof e==\"function\"?e:vn(e)))}function Vi(e){typeof e!=\"function\"&&(e=Ci(e));for(var t=this._groups,n=t.length,r=new Array(n),i=0;i<n;++i)for(var o=t[i],l=o.length,s=r[i]=[],u,f=0;f<l;++f)(u=o[f])&&e.call(u,u.__data__,f,o)&&s.push(u);return new F(r,this._parents)}function Pn(e){return new Array(e.length)}function qi(){return new F(this._enter||this._groups.map(Pn),this._parents)}function Je(e,t){this.ownerDocument=e.ownerDocument,this.namespaceURI=e.namespaceURI,this._next=null,this._parent=e,this.__data__=t}Je.prototype={constructor:Je,appendChild:function(e){return this._parent.insertBefore(e,this._next)},insertBefore:function(e,t){return this._parent.insertBefore(e,t)},querySelector:function(e){return this._parent.querySelector(e)},querySelectorAll:function(e){return this._parent.querySelectorAll(e)}};function ji(e){return function(){return e}}function Ii(e,t,n,r,i,o){for(var l=0,s,u=t.length,f=o.length;l<f;++l)(s=t[l])?(s.__data__=o[l],r[l]=s):n[l]=new Je(e,o[l]);for(;l<u;++l)(s=t[l])&&(i[l]=s)}function Fi(e,t,n,r,i,o,l){var s,u,f=new Map,g=t.length,c=o.length,h=new Array(g),_;for(s=0;s<g;++s)(u=t[s])&&(h[s]=_=l.call(u,u.__data__,s,t)+\"\",f.has(_)?i[s]=u:f.set(_,u));for(s=0;s<c;++s)_=l.call(e,o[s],s,o)+\"\",(u=f.get(_))?(r[s]=u,u.__data__=o[s],f.delete(_)):n[s]=new Je(e,o[s]);for(s=0;s<g;++s)(u=t[s])&&f.get(h[s])===u&&(i[s]=u)}function Wi(e){return e.__data__}function Ji(e,t){if(!arguments.length)return Array.from(this,Wi);var n=t?Fi:Ii,r=this._parents,i=this._groups;typeof e!=\"function\"&&(e=ji(e));for(var o=i.length,l=new Array(o),s=new Array(o),u=new Array(o),f=0;f<o;++f){var g=r[f],c=i[f],h=c.length,_=Ui(e.call(g,g&&g.__data__,f,r)),w=_.length,C=s[f]=new Array(w),N=l[f]=new Array(w),S=u[f]=new Array(h);n(g,c,C,N,S,_,t);for(var v=0,k=0,m,d;v<w;++v)if(m=C[v]){for(v>=k&&(k=v+1);!(d=N[k])&&++k<w;);m._next=d||null}}return l=new F(l,r),l._enter=s,l._exit=u,l}function Ui(e){return typeof e==\"object\"&&\"length\"in e?e:Array.from(e)}function Xi(){return new F(this._exit||this._groups.map(Pn),this._parents)}function Yi(e,t,n){var r=this.enter(),i=this,o=this.exit();return typeof e==\"function\"?(r=e(r),r&&(r=r.selection())):r=r.append(e+\"\"),t!=null&&(i=t(i),i&&(i=i.selection())),n==null?o.remove():n(o),r&&i?r.merge(i).order():i}function Gi(e){for(var t=e.selection?e.selection():e,n=this._groups,r=t._groups,i=n.length,o=r.length,l=Math.min(i,o),s=new Array(i),u=0;u<l;++u)for(var f=n[u],g=r[u],c=f.length,h=s[u]=new Array(c),_,w=0;w<c;++w)(_=f[w]||g[w])&&(h[w]=_);for(;u<i;++u)s[u]=n[u];return new F(s,this._parents)}function Zi(){for(var e=this._groups,t=-1,n=e.length;++t<n;)for(var r=e[t],i=r.length-1,o=r[i],l;--i>=0;)(l=r[i])&&(o&&l.compareDocumentPosition(o)^4&&o.parentNode.insertBefore(l,o),o=l);return this}function Ki(e){e||(e=Qi);function t(c,h){return c&&h?e(c.__data__,h.__data__):!c-!h}for(var n=this._groups,r=n.length,i=new Array(r),o=0;o<r;++o){for(var l=n[o],s=l.length,u=i[o]=new Array(s),f,g=0;g<s;++g)(f=l[g])&&(u[g]=f);u.sort(t)}return new F(i,this._parents).order()}function Qi(e,t){return e<t?-1:e>t?1:e>=t?0:NaN}function eo(){var e=arguments[0];return arguments[0]=this,e.apply(null,arguments),this}function to(){return Array.from(this)}function no(){for(var e=this._groups,t=0,n=e.length;t<n;++t)for(var r=e[t],i=0,o=r.length;i<o;++i){var l=r[i];if(l)return l}return null}function ro(){let e=0;for(const t of this)++e;return e}function io(){return!this.node()}function oo(e){for(var t=this._groups,n=0,r=t.length;n<r;++n)for(var i=t[n],o=0,l=i.length,s;o<l;++o)(s=i[o])&&e.call(s,s.__data__,o,i);return this}function lo(e){return function(){this.removeAttribute(e)}}function so(e){return function(){this.removeAttributeNS(e.space,e.local)}}function ao(e,t){return function(){this.setAttribute(e,t)}}function uo(e,t){return function(){this.setAttributeNS(e.space,e.local,t)}}function fo(e,t){return function(){var n=t.apply(this,arguments);n==null?this.removeAttribute(e):this.setAttribute(e,n)}}function co(e,t){return function(){var n=t.apply(this,arguments);n==null?this.removeAttributeNS(e.space,e.local):this.setAttributeNS(e.space,e.local,n)}}function ho(e,t){var n=_n(e);if(arguments.length<2){var r=this.node();return n.local?r.getAttributeNS(n.space,n.local):r.getAttribute(n)}return this.each((t==null?n.local?so:lo:typeof t==\"function\"?n.local?co:fo:n.local?uo:ao)(n,t))}function kn(e){return e.ownerDocument&&e.ownerDocument.defaultView||e.document&&e||e.defaultView}function go(e){return function(){this.style.removeProperty(e)}}function po(e,t,n){return function(){this.style.setProperty(e,t,n)}}function mo(e,t,n){return function(){var r=t.apply(this,arguments);r==null?this.style.removeProperty(e):this.style.setProperty(e,r,n)}}function yo(e,t,n){return arguments.length>1?this.each((t==null?go:typeof t==\"function\"?mo:po)(e,t,n==null?\"\":n)):_o(this.node(),e)}function _o(e,t){return e.style.getPropertyValue(t)||kn(e).getComputedStyle(e,null).getPropertyValue(t)}function bo(e){return function(){delete this[e]}}function xo(e,t){return function(){this[e]=t}}function wo(e,t){return function(){var n=t.apply(this,arguments);n==null?delete this[e]:this[e]=n}}function vo(e,t){return arguments.length>1?this.each((t==null?bo:typeof t==\"function\"?wo:xo)(e,t)):this.node()[e]}function $n(e){return e.trim().split(/^|\\s+/)}function mt(e){return e.classList||new An(e)}function An(e){this._node=e,this._names=$n(e.getAttribute(\"class\")||\"\")}An.prototype={add:function(e){var t=this._names.indexOf(e);t<0&&(this._names.push(e),this._node.setAttribute(\"class\",this._names.join(\" \")))},remove:function(e){var t=this._names.indexOf(e);t>=0&&(this._names.splice(t,1),this._node.setAttribute(\"class\",this._names.join(\" \")))},contains:function(e){return this._names.indexOf(e)>=0}};function Mn(e,t){for(var n=mt(e),r=-1,i=t.length;++r<i;)n.add(t[r])}function Nn(e,t){for(var n=mt(e),r=-1,i=t.length;++r<i;)n.remove(t[r])}function Po(e){return function(){Mn(this,e)}}function ko(e){return function(){Nn(this,e)}}function $o(e,t){return function(){(t.apply(this,arguments)?Mn:Nn)(this,e)}}function Ao(e,t){var n=$n(e+\"\");if(arguments.length<2){for(var r=mt(this.node()),i=-1,o=n.length;++i<o;)if(!r.contains(n[i]))return!1;return!0}return this.each((typeof t==\"function\"?$o:t?Po:ko)(n,t))}function Mo(){this.textContent=\"\"}function No(e){return function(){this.textContent=e}}function So(e){return function(){var t=e.apply(this,arguments);this.textContent=t==null?\"\":t}}function Eo(e){return arguments.length?this.each(e==null?Mo:(typeof e==\"function\"?So:No)(e)):this.node().textContent}function Co(){this.innerHTML=\"\"}function zo(e){return function(){this.innerHTML=e}}function Ro(e){return function(){var t=e.apply(this,arguments);this.innerHTML=t==null?\"\":t}}function Oo(e){return arguments.length?this.each(e==null?Co:(typeof e==\"function\"?Ro:zo)(e)):this.node().innerHTML}function Do(){this.nextSibling&&this.parentNode.appendChild(this)}function Bo(){return this.each(Do)}function To(){this.previousSibling&&this.parentNode.insertBefore(this,this.parentNode.firstChild)}function Ho(){return this.each(To)}function Lo(e){var t=typeof e==\"function\"?e:bn(e);return this.select(function(){return this.appendChild(t.apply(this,arguments))})}function Vo(){return null}function qo(e,t){var n=typeof e==\"function\"?e:bn(e),r=t==null?Vo:typeof t==\"function\"?t:xn(t);return this.select(function(){return this.insertBefore(n.apply(this,arguments),r.apply(this,arguments)||null)})}function jo(){var e=this.parentNode;e&&e.removeChild(this)}function Io(){return this.each(jo)}function Fo(){var e=this.cloneNode(!1),t=this.parentNode;return t?t.insertBefore(e,this.nextSibling):e}function Wo(){var e=this.cloneNode(!0),t=this.parentNode;return t?t.insertBefore(e,this.nextSibling):e}function Jo(e){return this.select(e?Wo:Fo)}function Uo(e){return arguments.length?this.property(\"__data__\",e):this.node().__data__}function Xo(e){return function(t){e.call(this,t,this.__data__)}}function Yo(e){return e.trim().split(/^|\\s+/).map(function(t){var n=\"\",r=t.indexOf(\".\");return r>=0&&(n=t.slice(r+1),t=t.slice(0,r)),{type:t,name:n}})}function Go(e){return function(){var t=this.__on;if(!!t){for(var n=0,r=-1,i=t.length,o;n<i;++n)o=t[n],(!e.type||o.type===e.type)&&o.name===e.name?this.removeEventListener(o.type,o.listener,o.options):t[++r]=o;++r?t.length=r:delete this.__on}}}function Zo(e,t,n){return function(){var r=this.__on,i,o=Xo(t);if(r){for(var l=0,s=r.length;l<s;++l)if((i=r[l]).type===e.type&&i.name===e.name){this.removeEventListener(i.type,i.listener,i.options),this.addEventListener(i.type,i.listener=o,i.options=n),i.value=t;return}}this.addEventListener(e.type,o,n),i={type:e.type,name:e.name,value:t,listener:o,options:n},r?r.push(i):this.__on=[i]}}function Ko(e,t,n){var r=Yo(e+\"\"),i,o=r.length,l;if(arguments.length<2){var s=this.node().__on;if(s){for(var u=0,f=s.length,g;u<f;++u)for(i=0,g=s[u];i<o;++i)if((l=r[i]).type===g.type&&l.name===g.name)return g.value}return}for(s=t?Zo:Go,i=0;i<o;++i)this.each(s(r[i],t,n));return this}function Sn(e,t,n){var r=kn(e),i=r.CustomEvent;typeof i==\"function\"?i=new i(t,n):(i=r.document.createEvent(\"Event\"),n?(i.initEvent(t,n.bubbles,n.cancelable),i.detail=n.detail):i.initEvent(t,!1,!1)),e.dispatchEvent(i)}function Qo(e,t){return function(){return Sn(this,e,t)}}function el(e,t){return function(){return Sn(this,e,t.apply(this,arguments))}}function tl(e,t){return this.each((typeof t==\"function\"?el:Qo)(e,t))}function*nl(){for(var e=this._groups,t=0,n=e.length;t<n;++t)for(var r=e[t],i=0,o=r.length,l;i<o;++i)(l=r[i])&&(yield l)}var En=[null];function F(e,t){this._groups=e,this._parents=t}function rl(){return this}F.prototype={constructor:F,select:Ai,selectAll:Ei,selectChild:Di,selectChildren:Li,filter:Vi,data:Ji,enter:qi,exit:Xi,join:Yi,merge:Gi,selection:rl,order:Zi,sort:Ki,call:eo,nodes:to,node:no,size:ro,empty:io,each:oo,attr:ho,style:yo,property:vo,classed:Ao,text:Eo,html:Oo,raise:Bo,lower:Ho,append:Lo,insert:qo,remove:Io,clone:Jo,datum:Uo,on:Ko,dispatch:tl,[Symbol.iterator]:nl};function L(e){return typeof e==\"string\"?new F([[document.querySelector(e)]],[document.documentElement]):new F([[e]],En)}function il(e){let t;for(;t=e.sourceEvent;)e=t;return e}function Cn(e,t){if(e=il(e),t===void 0&&(t=e.currentTarget),t){var n=t.ownerSVGElement||t;if(n.createSVGPoint){var r=n.createSVGPoint();return r.x=e.clientX,r.y=e.clientY,r=r.matrixTransform(t.getScreenCTM().inverse()),[r.x,r.y]}if(t.getBoundingClientRect){var i=t.getBoundingClientRect();return[e.clientX-i.left-t.clientLeft,e.clientY-i.top-t.clientTop]}}return[e.pageX,e.pageY]}function ol(e){return typeof e==\"string\"?new F([document.querySelectorAll(e)],[document.documentElement]):new F([wn(e)],En)}const ll={passive:!1},ke={capture:!0,passive:!1};function yt(e){e.stopImmediatePropagation()}function de(e){e.preventDefault(),e.stopImmediatePropagation()}function sl(e){var t=e.document.documentElement,n=L(e).on(\"dragstart.drag\",de,ke);\"onselectstart\"in t?n.on(\"selectstart.drag\",de,ke):(t.__noselect=t.style.MozUserSelect,t.style.MozUserSelect=\"none\")}function al(e,t){var n=e.document.documentElement,r=L(e).on(\"dragstart.drag\",null);t&&(r.on(\"click.drag\",de,ke),setTimeout(function(){r.on(\"click.drag\",null)},0)),\"onselectstart\"in n?r.on(\"selectstart.drag\",null):(n.style.MozUserSelect=n.__noselect,delete n.__noselect)}const Ue=e=>()=>e;function _t(e,{sourceEvent:t,subject:n,target:r,identifier:i,active:o,x:l,y:s,dx:u,dy:f,dispatch:g}){Object.defineProperties(this,{type:{value:e,enumerable:!0,configurable:!0},sourceEvent:{value:t,enumerable:!0,configurable:!0},subject:{value:n,enumerable:!0,configurable:!0},target:{value:r,enumerable:!0,configurable:!0},identifier:{value:i,enumerable:!0,configurable:!0},active:{value:o,enumerable:!0,configurable:!0},x:{value:l,enumerable:!0,configurable:!0},y:{value:s,enumerable:!0,configurable:!0},dx:{value:u,enumerable:!0,configurable:!0},dy:{value:f,enumerable:!0,configurable:!0},_:{value:g}})}_t.prototype.on=function(){var e=this._.on.apply(this._,arguments);return e===this._?this:e};function ul(e){return!e.ctrlKey&&!e.button}function fl(){return this.parentNode}function cl(e,t){return t==null?{x:e.x,y:e.y}:t}function hl(){return navigator.maxTouchPoints||\"ontouchstart\"in this}function dl(){var e=ul,t=fl,n=cl,r=hl,i={},o=pn(\"start\",\"drag\",\"end\"),l=0,s,u,f,g,c=0;function h(m){m.on(\"mousedown.drag\",_).filter(r).on(\"touchstart.drag\",N).on(\"touchmove.drag\",S,ll).on(\"touchend.drag touchcancel.drag\",v).style(\"touch-action\",\"none\").style(\"-webkit-tap-highlight-color\",\"rgba(0,0,0,0)\")}function _(m,d){if(!(g||!e.call(this,m,d))){var $=k(this,t.call(this,m,d),m,d,\"mouse\");!$||(L(m.view).on(\"mousemove.drag\",w,ke).on(\"mouseup.drag\",C,ke),sl(m.view),yt(m),f=!1,s=m.clientX,u=m.clientY,$(\"start\",m))}}function w(m){if(de(m),!f){var d=m.clientX-s,$=m.clientY-u;f=d*d+$*$>c}i.mouse(\"drag\",m)}function C(m){L(m.view).on(\"mousemove.drag mouseup.drag\",null),al(m.view,f),de(m),i.mouse(\"end\",m)}function N(m,d){if(!!e.call(this,m,d)){var $=m.changedTouches,p=t.call(this,m,d),y=$.length,R,b;for(R=0;R<y;++R)(b=k(this,p,m,d,$[R].identifier,$[R]))&&(yt(m),b(\"start\",m,$[R]))}}function S(m){var d=m.changedTouches,$=d.length,p,y;for(p=0;p<$;++p)(y=i[d[p].identifier])&&(de(m),y(\"drag\",m,d[p]))}function v(m){var d=m.changedTouches,$=d.length,p,y;for(g&&clearTimeout(g),g=setTimeout(function(){g=null},500),p=0;p<$;++p)(y=i[d[p].identifier])&&(yt(m),y(\"end\",m,d[p]))}function k(m,d,$,p,y,R){var b=o.copy(),P=Cn(R||$,d),V,H,B;if((B=n.call(m,new _t(\"beforestart\",{sourceEvent:$,target:h,identifier:y,active:l,x:P[0],y:P[1],dx:0,dy:0,dispatch:b}),p))!=null)return V=B.x-P[0]||0,H=B.y-P[1]||0,function W(T,x,z){var M=P,K;switch(T){case\"start\":i[y]=W,K=l++;break;case\"end\":delete i[y],--l;case\"drag\":P=Cn(z||x,d),K=l;break}b.call(T,m,new _t(T,{sourceEvent:x,subject:B,target:h,identifier:y,active:K,x:P[0]+V,y:P[1]+H,dx:P[0]-M[0],dy:P[1]-M[1],dispatch:b}),p)}}return h.filter=function(m){return arguments.length?(e=typeof m==\"function\"?m:Ue(!!m),h):e},h.container=function(m){return arguments.length?(t=typeof m==\"function\"?m:Ue(m),h):t},h.subject=function(m){return arguments.length?(n=typeof m==\"function\"?m:Ue(m),h):n},h.touchable=function(m){return arguments.length?(r=typeof m==\"function\"?m:Ue(!!m),h):r},h.on=function(){var m=o.on.apply(o,arguments);return m===o?h:m},h.clickDistance=function(m){return arguments.length?(c=(m=+m)*m,h):Math.sqrt(c)},h}const Vl=\"\";function zn(e,t,n){const r=e.slice();return r[15]=t[n],r}function Rn(e,t,n){const r=e.slice();return r[15]=t[n],r}function On(e){let t;return{c(){t=E(\"path\"),a(t,\"d\",e[15]),a(t,\"style\",\"transform: rotate(00deg) scale(0.5)\"),a(t,\"stroke\",\"#ffad97\"),a(t,\"stroke-width\",\"2\"),a(t,\"fill\",\"#ffad97\")},m(n,r){D(n,t,r)},p:j,d(n){n&&O(t)}}}function Dn(e){let t;return{c(){t=E(\"path\"),a(t,\"d\",e[15]),a(t,\"style\",\"transform: rotate(-180deg) scale(0.5)\"),a(t,\"stroke\",\"#df2a5d\"),a(t,\"stroke-width\",\"2\"),a(t,\"fill\",\"#df2a5d\")},m(n,r){D(n,t,r)},p:j,d(n){n&&O(t)}}}function gl(e){let t,n,r,i,o,l,s,u,f,g,c,h,_,w,C,N,S,v,k,m,d,$,p,y,R,b,P,V,H=e[4],B=[];for(let x=0;x<H.length;x+=1)B[x]=On(Rn(e,H,x));let W=e[4],T=[];for(let x=0;x<W.length;x+=1)T[x]=Dn(zn(e,W,x));return{c(){t=E(\"rect\"),l=Q(),s=E(\"rect\"),c=Q(),h=E(\"g\"),_=E(\"g\"),w=E(\"rect\"),N=E(\"g\"),S=E(\"text\"),v=q(\"Classify\"),k=E(\"text\"),m=q(\"Accepted\"),d=E(\"g\");for(let x=0;x<B.length;x+=1)B[x].c();$=E(\"g\"),p=E(\"text\"),y=q(\"Classify\"),R=E(\"text\"),b=q(\"Rejected\"),P=E(\"g\");for(let x=0;x<T.length;x+=1)T[x].c();a(t,\"class\",\"decision-boundary-rect svelte-eeid37\"),a(t,\"height\",n=e[3]-e[1].bottom-e[1].top),a(t,\"width\",r=e[0]-e[1].left-e[1].right+$e),a(t,\"x\",i=e[1].left),a(t,\"fill\",\"#df2a5d\"),a(t,\"fill-opacity\",\"0.15\"),a(t,\"y\",o=e[1].top),a(s,\"class\",\"decision-boundary-rect svelte-eeid37\"),a(s,\"height\",u=e[3]-e[1].bottom-e[1].top),a(s,\"width\",f=e[2]-e[0]-e[1].right-e[1].left-$e),a(s,\"x\",e[0]),a(s,\"fill\",\"#ffad97\"),a(s,\"fill-opacity\",\"0.15\"),a(s,\"y\",g=e[1].top),a(w,\"height\",C=e[3]-e[1].bottom-e[1].top),a(w,\"width\",$e),a(w,\"fill\",\"#000000\"),a(S,\"class\",\"decision-boundary-text svelte-eeid37\"),a(S,\"x\",\"0\"),a(S,\"y\",\"0\"),a(S,\"font-size\",\"13\"),a(S,\"text-anchor\",\"start\"),a(S,\"dominant-baseline\",\"middle\"),a(k,\"class\",\"decision-boundary-text svelte-eeid37\"),a(k,\"fill\",\"#ffad97\"),a(k,\"x\",\"0\"),a(k,\"y\",\"13\"),a(k,\"font-size\",\"13\"),a(k,\"text-anchor\",\"start\"),a(k,\"dominant-baseline\",\"middle\"),a(d,\"transform\",\"translate(56 -3)\"),a(N,\"class\",\"arrow-holder svelte-eeid37\"),a(N,\"transform\",`translate(14 ${10})`),a(p,\"class\",\"decision-boundary-text svelte-eeid37\"),a(p,\"x\",\"-14\"),a(p,\"y\",\"0\"),a(p,\"font-size\",\"13\"),a(p,\"text-anchor\",\"start\"),a(p,\"dominant-baseline\",\"middle\"),a(R,\"class\",\"decision-boundary-text svelte-eeid37\"),a(R,\"fill\",\"#df2a5d\"),a(R,\"x\",\"-14\"),a(R,\"y\",\"13\"),a(R,\"font-size\",\"13\"),a(R,\"text-anchor\",\"start\"),a(R,\"dominant-baseline\",\"middle\"),a(P,\"transform\",\"translate(-16 11)\"),a($,\"class\",\"arrow-holder svelte-eeid37\"),a($,\"transform\",`translate(-43 ${10})`),a(_,\"class\",\"decision-boundary-bar1 svelte-eeid37\"),a(_,\"data-id\",\"decision-boundary-bar1\"),a(_,\"transform\",V=\"translate(\"+e[0]+\",\"+e[1].top+\")\"),a(h,\"class\",\"bar1\")},m(x,z){D(x,t,z),D(x,l,z),D(x,s,z),D(x,c,z),D(x,h,z),A(h,_),A(_,w),A(_,N),A(N,S),A(S,v),A(N,k),A(k,m),A(N,d);for(let M=0;M<B.length;M+=1)B[M]&&B[M].m(d,null);A(_,$),A($,p),A(p,y),A($,R),A(R,b),A($,P);for(let M=0;M<T.length;M+=1)T[M]&&T[M].m(P,null)},p(x,[z]){if(z&10&&n!==(n=x[3]-x[1].bottom-x[1].top)&&a(t,\"height\",n),z&3&&r!==(r=x[0]-x[1].left-x[1].right+$e)&&a(t,\"width\",r),z&2&&i!==(i=x[1].left)&&a(t,\"x\",i),z&2&&o!==(o=x[1].top)&&a(t,\"y\",o),z&10&&u!==(u=x[3]-x[1].bottom-x[1].top)&&a(s,\"height\",u),z&7&&f!==(f=x[2]-x[0]-x[1].right-x[1].left-$e)&&a(s,\"width\",f),z&1&&a(s,\"x\",x[0]),z&2&&g!==(g=x[1].top)&&a(s,\"y\",g),z&10&&C!==(C=x[3]-x[1].bottom-x[1].top)&&a(w,\"height\",C),z&16){H=x[4];let M;for(M=0;M<H.length;M+=1){const K=Rn(x,H,M);B[M]?B[M].p(K,z):(B[M]=On(K),B[M].c(),B[M].m(d,null))}for(;M<B.length;M+=1)B[M].d(1);B.length=H.length}if(z&16){W=x[4];let M;for(M=0;M<W.length;M+=1){const K=zn(x,W,M);T[M]?T[M].p(K,z):(T[M]=Dn(K),T[M].c(),T[M].m(P,null))}for(;M<T.length;M+=1)T[M].d(1);T.length=W.length}z&3&&V!==(V=\"translate(\"+x[0]+\",\"+x[1].top+\")\")&&a(_,\"transform\",V)},i:j,o:j,d(x){x&&O(t),x&&O(l),x&&O(s),x&&O(c),x&&O(h),G(B,x),G(T,x)}}}const $e=10;function pl(e,t){}function ml(e,t,n){let r,i,o,l,s,u,f,g,c,h,_,w;J(e,gt,v=>n(0,s=v)),J(e,cn,v=>n(9,u=v)),J(e,fn,v=>n(10,f=v)),J(e,dn,v=>n(11,g=v)),J(e,hn,v=>n(12,c=v)),J(e,un,v=>n(1,h=v)),J(e,dt,v=>n(8,_=v)),J(e,ht,v=>n(2,w=v));const C=[\"M0.200275 13.2782C0.200275 12.4153 0.89983 11.7157 1.76278 11.7157H23.6378C24.5007 11.7157 25.2003 12.4153 25.2003 13.2782C25.2003 14.1411 24.5007 14.8407 23.6378 14.8407H1.76278C0.89983 14.8407 0.200275 14.1411 0.200275 13.2782Z\",\"M11.5954 1.23584C12.2056 0.62565 13.1949 0.62565 13.8051 1.23584L24.7426 12.1733C25.3528 12.7835 25.3528 13.7729 24.7426 14.3831L13.8051 25.3206C13.1949 25.9307 12.2056 25.9307 11.5954 25.3206C10.9852 24.7104 10.9852 23.721 11.5954 23.1108L21.4281 13.2782L11.5954 3.44555C10.9852 2.83536 10.9852 1.84604 11.5954 1.23584Z\",\"M 11.5954 1.23584 C 12.2056 0.62565 13.1949 0.62565 13.8051 1.23584 L 24.7426 12.1733 C 25.3528 12.7835 25.3528 13.7729 24.7426 14.3831 L 13.8051 25.3206 C 13.1949 25.9307 12.2056 25.9307 11.5954 25.3206 C 10.9852 24.7104 10.9852 23.721 11.5954 23.1108 L 21.4281 13.2782 L 11.5954 3.44555 C 10.9852 2.83536 10.9852 1.84604 11.5954 1.23584 Z\"];or(()=>{L(\"g.decision-boundary-bar1\").call(dl().on(\"start\",N).on(\"drag\",S).on(\"end\",pl))});function N(){L(\"#dragme\").remove(),L(\"#dragline\").remove()}function S(v,k){const m=o.invert(v.x);m<=0||m>=.99||(ne(gt,s=v.x,s),L(\"g.decision-boundary-bar1\").raise().attr(\"transform\",`translate(${v.x}, ${h.top})`),l(m))}return e.$$.update=()=>{e.$$.dirty&6&&n(7,r=w-h.left-h.right),e.$$.dirty&258&&n(3,i=_-h.top-h.bottom),e.$$.dirty&130&&n(5,o=ve().domain(yr(Pe.map(v=>v.xPos))).range([h.left,r-h.right])),e.$$.dirty&32&&ne(gt,s=o(.65),s),e.$$.dirty&97&&l(o.invert(s))},n(6,l=function(v){let k=ol(\"g.data-point1\"),m=k.filter(function(z){return L(this).attr(\"label\")==1}),d=k.filter(function(z){return L(this).attr(\"label\")==0}),$=k.filter(function(z){return L(this).attr(\"x\")>=v}),p=k.filter(function(z){return L(this).attr(\"x\")<v});const y=d.filter(function(z){return L(this).attr(\"x\")>=v}),R=y.filter(function(z){return L(this).attr(\"group\")==\"circle\"}).size(),b=y.filter(function(z){return L(this).attr(\"group\")==\"triangle\"}).size(),P=m.filter(function(z){return L(this).attr(\"x\")<=v}),V=P.filter(function(z){return L(this).attr(\"group\")==\"circle\"}).size(),H=P.filter(function(z){return L(this).attr(\"group\")==\"triangle\"}).size(),B=$.filter(function(z){return L(this).attr(\"group\")==\"circle\"}).size(),W=p.filter(function(z){return L(this).attr(\"group\")==\"circle\"}).size(),T=p.filter(function(z){return L(this).attr(\"group\")==\"triangle\"}).size(),x=$.filter(function(z){return L(this).attr(\"group\")==\"triangle\"}).size();ne(hn,c=V,c),ne(dn,g=H,g),ne(fn,f=R,f),ne(cn,u=b,u),gn.set([{xVal:\"A\",Accepted:30,Declined:20},{xVal:\"A Predicted\",Accepted:W,Declined:B},{xVal:\"B\",Accepted:10,Declined:15},{xVal:\"B Predicted\",Accepted:T,Declined:x}])}),[s,h,w,i,C,o,l,r,_]}class yl extends Re{constructor(t){super(),ze(this,t,ml,gl,ge,{})}}const ql=\"\";function Bn(e,t,n){const r=e.slice();return r[9]=t[n],r}function Tn(e,t,n){const r=e.slice();return r[12]=t[n],r}function Hn(e,t,n){const r=e.slice();return r[12]=t[n],r}function Ln(e){let t,n,r,i,o=e[12]+\"\",l,s;return{c(){t=E(\"g\"),n=E(\"line\"),i=E(\"text\"),l=q(o),a(n,\"class\",\"axis-tick svelte-1xd8ak0\"),a(n,\"x1\",\"0\"),a(n,\"x2\",\"0\"),a(n,\"y1\",0),a(n,\"y2\",r=-e[0]+e[2].bottom+e[2].top),a(n,\"stroke\",\"#000000\"),a(n,\"stroke-dasharray\",\"4\"),a(i,\"class\",\"axis-text svelte-1xd8ak0\"),a(i,\"y\",\"15\"),a(i,\"text-anchor\",\"middle\"),a(t,\"transform\",s=`translate(${e[6](e[12])+0} ${e[0]-e[2].bottom})`)},m(u,f){D(u,t,f),A(t,n),A(t,i),A(i,l)},p(u,f){f&5&&r!==(r=-u[0]+u[2].bottom+u[2].top)&&a(n,\"y2\",r),f&64&&o!==(o=u[12]+\"\")&&Et(l,o),f&69&&s!==(s=`translate(${u[6](u[12])+0} ${u[0]-u[2].bottom})`)&&a(t,\"transform\",s)},d(u){u&&O(t)}}}function Vn(e){let t,n,r,i;return{c(){t=E(\"g\"),n=E(\"line\"),a(n,\"class\",\"axis-tick svelte-1xd8ak0\"),a(n,\"x1\",0),a(n,\"x2\",r=e[1]-e[2].right-e[2].left),a(n,\"y1\",\"0\"),a(n,\"y2\",\"0\"),a(n,\"stroke\",\"#000000\"),a(n,\"stroke-dasharray\",\"4\"),a(t,\"transform\",i=`translate(${e[2].left} ${e[5](e[12])+0})`)},m(o,l){D(o,t,l),A(t,n)},p(o,l){l&6&&r!==(r=o[1]-o[2].right-o[2].left)&&a(n,\"x2\",r),l&36&&i!==(i=`translate(${o[2].left} ${o[5](o[12])+0})`)&&a(t,\"transform\",i)},d(o){o&&O(t)}}}function _l(e){let t,n;return{c(){t=E(\"polygon\"),a(t,\"points\",n=`${e[6](e[9].xPos)},${e[5](e[9].yPos)-Y/2} ${e[6](e[9].xPos)-Y/1.5},${e[5](e[9].yPos)+Y/1.5} ${e[6](e[9].xPos)+Y/1.5},${e[5](e[9].yPos)+Y/1.5}`),a(t,\"fill\",e[7](e[9].label)),a(t,\"class\",\"svelte-1xd8ak0\")},m(r,i){D(r,t,i)},p(r,i){i&96&&n!==(n=`${r[6](r[9].xPos)},${r[5](r[9].yPos)-Y/2} ${r[6](r[9].xPos)-Y/1.5},${r[5](r[9].yPos)+Y/1.5} ${r[6](r[9].xPos)+Y/1.5},${r[5](r[9].yPos)+Y/1.5}`)&&a(t,\"points\",n)},d(r){r&&O(t)}}}function bl(e){let t,n,r;return{c(){t=E(\"circle\"),a(t,\"cx\",n=e[6](e[9].xPos)),a(t,\"cy\",r=e[5](e[9].yPos)),a(t,\"r\",wl),a(t,\"fill\",e[7](e[9].label)),a(t,\"class\",\"svelte-1xd8ak0\")},m(i,o){D(i,t,o)},p(i,o){o&64&&n!==(n=i[6](i[9].xPos))&&a(t,\"cx\",n),o&32&&r!==(r=i[5](i[9].yPos))&&a(t,\"cy\",r)},d(i){i&&O(t)}}}function qn(e){let t;function n(o,l){return o[9].group==\"circle\"?bl:_l}let i=n(e)(e);return{c(){t=E(\"g\"),i.c(),a(t,\"class\",\"data-point1\"),a(t,\"label\",e[9].label),a(t,\"group\",e[9].group),a(t,\"x\",e[9].xPos),a(t,\"y\",e[9].yPos)},m(o,l){D(o,t,l),i.m(t,null)},p(o,l){i.p(o,l)},d(o){o&&O(t),i.d()}}}function xl(e){let t,n,r,i,o,l,s,u,f,g,c,h,_,w,C,N,S,v=e[6].ticks(),k=[];for(let y=0;y<v.length;y+=1)k[y]=Ln(Hn(e,v,y));let m=e[5].ticks(),d=[];for(let y=0;y<m.length;y+=1)d[y]=Vn(Tn(e,m,y));let $=Pe,p=[];for(let y=0;y<$.length;y+=1)p[y]=qn(Bn(e,$,y));return c=new yl({}),{c(){t=ie(\"div\"),n=E(\"svg\"),r=E(\"line\");for(let y=0;y<k.length;y+=1)k[y].c();u=oe();for(let y=0;y<d.length;y+=1)d[y].c();f=oe();for(let y=0;y<p.length;y+=1)p[y].c();g=oe(),Ke(c.$$.fragment),h=E(\"text\"),_=q(\"Probability Threshold\"),a(r,\"class\",\"axis-line svelte-1xd8ak0\"),a(r,\"x1\",i=e[2].left),a(r,\"x2\",o=e[1]-e[2].right),a(r,\"y1\",l=e[0]-e[2].bottom),a(r,\"y2\",s=e[0]-e[2].bottom),a(h,\"class\",\"axis-label svelte-1xd8ak0\"),a(h,\"y\",w=e[0]+e[2].bottom+10),a(h,\"x\",C=(e[1]+e[2].left)/2),a(h,\"text-anchor\",\"middle\"),a(n,\"width\",e[4]),a(n,\"height\",e[3]),a(t,\"id\",\"scatter-holder\"),a(t,\"class\",\"svelte-1xd8ak0\"),ye(()=>e[8].call(t))},m(y,R){D(y,t,R),A(t,n),A(n,r);for(let b=0;b<k.length;b+=1)k[b]&&k[b].m(n,null);A(n,u);for(let b=0;b<d.length;b+=1)d[b]&&d[b].m(n,null);A(n,f);for(let b=0;b<p.length;b+=1)p[b]&&p[b].m(n,null);A(n,g),Ee(c,n,null),A(n,h),A(h,_),N=Ct(t,e[8].bind(t)),S=!0},p(y,[R]){if((!S||R&4&&i!==(i=y[2].left))&&a(r,\"x1\",i),(!S||R&6&&o!==(o=y[1]-y[2].right))&&a(r,\"x2\",o),(!S||R&5&&l!==(l=y[0]-y[2].bottom))&&a(r,\"y1\",l),(!S||R&5&&s!==(s=y[0]-y[2].bottom))&&a(r,\"y2\",s),R&69){v=y[6].ticks();let b;for(b=0;b<v.length;b+=1){const P=Hn(y,v,b);k[b]?k[b].p(P,R):(k[b]=Ln(P),k[b].c(),k[b].m(n,u))}for(;b<k.length;b+=1)k[b].d(1);k.length=v.length}if(R&38){m=y[5].ticks();let b;for(b=0;b<m.length;b+=1){const P=Tn(y,m,b);d[b]?d[b].p(P,R):(d[b]=Vn(P),d[b].c(),d[b].m(n,f))}for(;b<d.length;b+=1)d[b].d(1);d.length=m.length}if(R&224){$=Pe;let b;for(b=0;b<$.length;b+=1){const P=Bn(y,$,b);p[b]?p[b].p(P,R):(p[b]=qn(P),p[b].c(),p[b].m(n,g))}for(;b<p.length;b+=1)p[b].d(1);p.length=$.length}(!S||R&5&&w!==(w=y[0]+y[2].bottom+10))&&a(h,\"y\",w),(!S||R&6&&C!==(C=(y[1]+y[2].left)/2))&&a(h,\"x\",C),(!S||R&16)&&a(n,\"width\",y[4]),(!S||R&8)&&a(n,\"height\",y[3])},i(y){S||(Se(c.$$.fragment,y),S=!0)},o(y){Ze(c.$$.fragment,y),S=!1},d(y){y&&O(t),G(k,y),G(d,y),G(p,y),Ce(c),N()}}}let wl=5,Y=8;function vl(e,t,n){let r,i,o,l,s,u,f;J(e,un,h=>n(2,s=h)),J(e,dt,h=>n(3,u=h)),J(e,ht,h=>n(4,f=h));const g=Be([0,1],[\"#df2a5d\",\"#ffad97\"]);function c(){f=this.offsetWidth,ht.set(f),u=this.offsetHeight,dt.set(u)}return e.$$.update=()=>{e.$$.dirty&20&&n(1,r=f-s.left-s.right),e.$$.dirty&12&&n(0,i=u-s.top-s.bottom),e.$$.dirty&6&&n(6,o=ve().domain([0,1]).range([s.left,r-s.right])),e.$$.dirty&5&&n(5,l=ve().domain([Ar(Pe,h=>h.yPos)*1.07,Ht(Pe,h=>h.yPos)*1.04]).range([i-s.bottom,s.top]))},[i,r,s,u,f,l,o,g,c]}class Pl extends Re{constructor(t){super(),ze(this,t,vl,xl,ge,{})}}function Xe(e){return function(){return e}}function kl(e){return typeof e==\"object\"&&\"length\"in e?e:Array.from(e)}function bt(e,t){if((l=e.length)>1)for(var n=1,r,i,o=e[t[0]],l,s=o.length;n<l;++n)for(i=o,o=e[t[n]],r=0;r<s;++r)o[r][1]+=o[r][0]=isNaN(i[r][1])?i[r][0]:i[r][1]}function xt(e){for(var t=e.length,n=new Array(t);--t>=0;)n[t]=t;return n}function $l(e,t){return e[t]}function Al(e){const t=[];return t.key=e,t}function Ml(){var e=Xe([]),t=xt,n=bt,r=$l;function i(o){var l=Array.from(e.apply(this,arguments),Al),s,u=l.length,f=-1,g;for(const c of o)for(s=0,++f;s<u;++s)(l[s][f]=[0,+r(c,l[s].key,f,o)]).data=c;for(s=0,g=kl(t(l));s<u;++s)l[g[s]].index=s;return n(l,g),l}return i.keys=function(o){return arguments.length?(e=typeof o==\"function\"?o:Xe(Array.from(o)),i):e},i.value=function(o){return arguments.length?(r=typeof o==\"function\"?o:Xe(+o),i):r},i.order=function(o){return arguments.length?(t=o==null?xt:typeof o==\"function\"?o:Xe(Array.from(o)),i):t},i.offset=function(o){return arguments.length?(n=o==null?bt:o,i):n},i}const jl=\"\";function jn(e,t,n){const r=e.slice();return r[13]=t[n],r}function In(e,t,n){const r=e.slice();return r[16]=t[n],r}function Fn(e,t,n){const r=e.slice();return r[19]=t[n],r}function Wn(e,t,n){const r=e.slice();return r[19]=t[n],r[23]=n,r}function Nl(e){let t,n;return{c(){t=E(\"tspan\"),n=q(\"▲\"),a(t,\"font-size\",\"11\"),a(t,\"dy\",\"0\"),a(t,\"alignment-baseline\",\"center\")},m(r,i){D(r,t,i),A(t,n)},d(r){r&&O(t)}}}function Sl(e){let t,n,r;return{c(){t=E(\"tspan\"),n=q(\"●\"),r=Q(),a(t,\"font-size\",\"19\"),a(t,\"dy\",\"1\"),a(t,\"alignment-baseline\",\"center\")},m(i,o){D(i,t,o),A(t,n),D(i,r,o)},d(i){i&&O(t),i&&O(r)}}}function El(e){let t,n;return{c(){t=E(\"tspan\"),n=q(\"Prediction\"),a(t,\"class\",\"axis-text svelte-1yobmuj\"),a(t,\"font-size\",\"12\"),a(t,\"dy\",\".4\"),a(t,\"dx\",\"0.5\"),a(t,\"alignment-baseline\",\"center\")},m(r,i){D(r,t,i),A(t,n)},d(r){r&&O(t)}}}function Cl(e){let t,n,r;return{c(){t=E(\"tspan\"),n=q(\"Truth\"),r=Q(),a(t,\"class\",\"axis-text svelte-1yobmuj\"),a(t,\"font-size\",\"12\"),a(t,\"dy\",\".4\"),a(t,\"dx\",\"0.5\"),a(t,\"alignment-baseline\",\"center\")},m(i,o){D(i,t,o),A(t,n),D(i,r,o)},d(i){i&&O(t),i&&O(r)}}}function zl(e){let t,n,r;return{c(){t=E(\"tspan\"),n=q(\"Prediction\"),r=Q(),a(t,\"class\",\"axis-text svelte-1yobmuj\"),a(t,\"font-size\",\"12\"),a(t,\"dy\",\"-1\"),a(t,\"dx\",\"-5\"),a(t,\"alignment-baseline\",\"center\")},m(i,o){D(i,t,o),A(t,n),D(i,r,o)},d(i){i&&O(t),i&&O(r)}}}function Rl(e){let t,n,r;return{c(){t=E(\"tspan\"),n=q(\"Truth\"),r=Q(),a(t,\"class\",\"axis-text svelte-1yobmuj\"),a(t,\"font-size\",\"12\"),a(t,\"dy\",\"-1\"),a(t,\"dx\",\"-5\"),a(t,\"alignment-baseline\",\"center\")},m(i,o){D(i,t,o),A(t,n),D(i,r,o)},d(i){i&&O(t),i&&O(r)}}}function Jn(e){let t,n,r,i,o,l;function s(_,w){return _[23]<2?Sl:Nl}let f=s(e)(e);function g(_,w){if(_[23]==0)return Rl;if(_[23]==1)return zl;if(_[23]==2)return Cl;if(_[23]==3)return El}let c=g(e),h=c&&c(e);return{c(){t=E(\"g\"),n=E(\"line\"),i=E(\"text\"),f.c(),o=oe(),h&&h.c(),a(n,\"class\",\"axis-tick svelte-1yobmuj\"),a(n,\"x1\",\"0\"),a(n,\"x2\",\"0\"),a(n,\"y1\",0),a(n,\"y2\",r=-e[2]+e[8].bottom+e[8].top),a(n,\"stroke\",\"#000000\"),a(n,\"stroke-dasharray\",\"4\"),a(i,\"y\",\"15\"),a(i,\"text-anchor\",\"middle\"),a(t,\"transform\",l=`translate(${e[7](e[19])+e[7].bandwidth()/2} ${e[2]-e[8].bottom})`)},m(_,w){D(_,t,w),A(t,n),A(t,i),f.m(i,null),A(i,o),h&&h.m(i,null)},p(_,w){w&4&&r!==(r=-_[2]+_[8].bottom+_[8].top)&&a(n,\"y2\",r),w&148&&l!==(l=`translate(${_[7](_[19])+_[7].bandwidth()/2} ${_[2]-_[8].bottom})`)&&a(t,\"transform\",l)},d(_){_&&O(t),f.d(),h&&h.d()}}}function Un(e){let t,n,r,i,o=e[19]+\"\",l,s;return{c(){t=E(\"g\"),n=E(\"line\"),i=E(\"text\"),l=q(o),a(n,\"class\",\"axis-tick svelte-1yobmuj\"),a(n,\"x1\",0),a(n,\"x2\",r=e[3]-e[8].right-e[8].left),a(n,\"y1\",\"0\"),a(n,\"y2\",\"0\"),a(n,\"stroke\",\"#000000\"),a(n,\"stroke-dasharray\",\"4\"),a(i,\"class\",\"axis-text svelte-1yobmuj\"),a(i,\"x\",\"-2\"),a(i,\"y\",\"0\"),a(i,\"text-anchor\",\"end\"),a(i,\"dominant-baseline\",\"middle\"),a(t,\"transform\",s=`translate(${e[8].left} ${e[6](e[19])+0})`)},m(u,f){D(u,t,f),A(t,n),A(t,i),A(i,l)},p(u,f){f&8&&r!==(r=u[3]-u[8].right-u[8].left)&&a(n,\"x2\",r),f&64&&o!==(o=u[19]+\"\")&&Et(l,o),f&64&&s!==(s=`translate(${u[8].left} ${u[6](u[19])+0})`)&&a(t,\"transform\",s)},d(u){u&&O(t)}}}function Xn(e){let t,n,r,i,o,l,s;return{c(){t=E(\"rect\"),a(t,\"x\",n=e[7](e[16].data.xVal)),a(t,\"y\",r=e[6](e[16][1])),a(t,\"height\",i=e[6](e[16][0])-e[6](e[16][1])),a(t,\"fill\",o=e[9](e[13].key)),a(t,\"fill-opacity\",l=e[16].data.xVal.includes(\"Predict\")?\"0.35\":\"0.8\"),a(t,\"width\",s=e[7].bandwidth())},m(u,f){D(u,t,f)},p(u,f){f&160&&n!==(n=u[7](u[16].data.xVal))&&a(t,\"x\",n),f&96&&r!==(r=u[6](u[16][1]))&&a(t,\"y\",r),f&96&&i!==(i=u[6](u[16][0])-u[6](u[16][1]))&&a(t,\"height\",i),f&32&&o!==(o=u[9](u[13].key))&&a(t,\"fill\",o),f&32&&l!==(l=u[16].data.xVal.includes(\"Predict\")?\"0.35\":\"0.8\")&&a(t,\"fill-opacity\",l),f&128&&s!==(s=u[7].bandwidth())&&a(t,\"width\",s)},d(u){u&&O(t)}}}function Yn(e){let t,n=e[13],r=[];for(let i=0;i<n.length;i+=1)r[i]=Xn(In(e,n,i));return{c(){t=E(\"g\");for(let i=0;i<r.length;i+=1)r[i].c();a(t,\"class\",\"series\")},m(i,o){D(i,t,o);for(let l=0;l<r.length;l+=1)r[l]&&r[l].m(t,null)},p(i,o){if(o&736){n=i[13];let l;for(l=0;l<n.length;l+=1){const s=In(i,n,l);r[l]?r[l].p(s,o):(r[l]=Xn(s),r[l].c(),r[l].m(t,null))}for(;l<r.length;l+=1)r[l].d(1);r.length=n.length}},d(i){i&&O(t),G(r,i)}}}function Ol(e){let t,n,r,i,o,l,s,u,f,g,c,h,_,w,C=e[4].map(Gn),N=[];for(let d=0;d<C.length;d+=1)N[d]=Jn(Wn(e,C,d));let S=e[6].ticks(),v=[];for(let d=0;d<S.length;d+=1)v[d]=Un(Fn(e,S,d));let k=e[5],m=[];for(let d=0;d<k.length;d+=1)m[d]=Yn(jn(e,k,d));return{c(){t=ie(\"div\"),n=E(\"svg\"),r=E(\"line\"),s=E(\"line\");for(let d=0;d<N.length;d+=1)N[d].c();f=oe();for(let d=0;d<v.length;d+=1)v[d].c();g=oe();for(let d=0;d<m.length;d+=1)m[d].c();c=E(\"text\"),h=q(\"Count of Outcomes\"),a(r,\"class\",\"axis-line svelte-1yobmuj\"),a(r,\"x1\",e[8].left),a(r,\"x2\",i=e[3]-e[8].right),a(r,\"y1\",o=e[2]-e[8].bottom),a(r,\"y2\",l=e[2]-e[8].bottom),a(s,\"class\",\"axis-line svelte-1yobmuj\"),a(s,\"x1\",e[8].left),a(s,\"x2\",e[8].left),a(s,\"y1\",e[8].top),a(s,\"y2\",u=e[2]-e[8].bottom),a(c,\"class\",\"axis-label svelte-1yobmuj\"),a(c,\"y\",e[8].left/2),a(c,\"x\",_=-(e[2]/2)),a(c,\"text-anchor\",\"middle\"),a(c,\"transform\",\"rotate(-90)\"),a(n,\"width\",e[1]),a(n,\"height\",e[0]),a(t,\"id\",\"stackedrect-holder\"),a(t,\"class\",\"svelte-1yobmuj\"),ye(()=>e[10].call(t))},m(d,$){D(d,t,$),A(t,n),A(n,r),A(n,s);for(let p=0;p<N.length;p+=1)N[p]&&N[p].m(n,null);A(n,f);for(let p=0;p<v.length;p+=1)v[p]&&v[p].m(n,null);A(n,g);for(let p=0;p<m.length;p+=1)m[p]&&m[p].m(n,null);A(n,c),A(c,h),w=Ct(t,e[10].bind(t))},p(d,[$]){if($&8&&i!==(i=d[3]-d[8].right)&&a(r,\"x2\",i),$&4&&o!==(o=d[2]-d[8].bottom)&&a(r,\"y1\",o),$&4&&l!==(l=d[2]-d[8].bottom)&&a(r,\"y2\",l),$&4&&u!==(u=d[2]-d[8].bottom)&&a(s,\"y2\",u),$&404){C=d[4].map(Gn);let p;for(p=0;p<C.length;p+=1){const y=Wn(d,C,p);N[p]?N[p].p(y,$):(N[p]=Jn(y),N[p].c(),N[p].m(n,f))}for(;p<N.length;p+=1)N[p].d(1);N.length=C.length}if($&328){S=d[6].ticks();let p;for(p=0;p<S.length;p+=1){const y=Fn(d,S,p);v[p]?v[p].p(y,$):(v[p]=Un(y),v[p].c(),v[p].m(n,g))}for(;p<v.length;p+=1)v[p].d(1);v.length=S.length}if($&736){k=d[5];let p;for(p=0;p<k.length;p+=1){const y=jn(d,k,p);m[p]?m[p].p(y,$):(m[p]=Yn(y),m[p].c(),m[p].m(n,c))}for(;p<m.length;p+=1)m[p].d(1);m.length=k.length}$&4&&_!==(_=-(d[2]/2))&&a(c,\"x\",_),$&2&&a(n,\"width\",d[1]),$&1&&a(n,\"height\",d[0])},i:j,o:j,d(d){d&&O(t),G(N,d),G(v,d),G(m,d),w()}}}const Gn=e=>e.xVal;function Dl(e,t,n){let r,i,o,l,s,u;J(e,gn,C=>n(4,u=C));let f=300,g=300,c={top:55,bottom:10,left:75,right:10};ft(\".0%\");const h=Be().range([\"#df2a5d\",\"#ffad97\"]),_=Ml().keys([\"Accepted\",\"Declined\"]).order(xt).offset(bt);function w(){g=this.offsetWidth,f=this.offsetHeight,n(1,g),n(0,f)}return e.$$.update=()=>{e.$$.dirty&2&&n(3,r=g-c.left-c.right),e.$$.dirty&1&&n(2,i=f-c.top-c.bottom),e.$$.dirty&24&&n(7,o=Vt().rangeRound([c.left,r-c.right]).padding(.1).domain(u.map(C=>C.xVal))),e.$$.dirty&20&&n(6,l=ve().rangeRound([i-c.bottom,c.top]).domain([0,Ht(u,C=>C.Accepted+C.Declined)])),e.$$.dirty&16&&n(5,s=_(u))},[f,g,i,r,u,s,l,o,c,h,w]}class Bl extends Re{constructor(t){super(),ze(this,t,Dl,Ol,ge,{})}}const Il=\"\";function Tl(e){let t,n,r,i,o,l,s;return r=new Pl({}),l=new Bl({}),{c(){t=ie(\"div\"),n=ie(\"div\"),Ke(r.$$.fragment),i=Q(),o=ie(\"div\"),Ke(l.$$.fragment),a(n,\"id\",\"scatter1-container\"),a(n,\"class\",\"svelte-sxx449\"),a(o,\"id\",\"output1-container\"),a(o,\"class\",\"svelte-sxx449\"),a(t,\"id\",\"charts1-container\"),a(t,\"class\",\"svelte-sxx449\")},m(u,f){D(u,t,f),A(t,n),Ee(r,n,null),A(t,i),A(t,o),Ee(l,o,null),s=!0},p:j,i(u){s||(Se(r.$$.fragment,u),Se(l.$$.fragment,u),s=!0)},o(u){Ze(r.$$.fragment,u),Ze(l.$$.fragment,u),s=!1},d(u){u&&O(t),Ce(r),Ce(l)}}}class Hl extends Re{constructor(t){super(),ze(this,t,null,Tl,ge,{})}}return Hl}();\n",
       "</script>\n",
       "        \n",
       "        <div id=\"EqualityOfOddsJupy-385dfb0d\"></div>\n",
       "        <script>\n",
       "        (() => {\n",
       "            var data = 0;\n",
       "            window.EqualityOfOddsJupy_data = data;\n",
       "            var EqualityOfOddsJupy_inst = new EqualityOfOddsJupy({\n",
       "                \"target\": document.getElementById(\"EqualityOfOddsJupy-385dfb0d\"),\n",
       "                \"props\": data\n",
       "            });\n",
       "        })();\n",
       "        </script>\n",
       "        \n",
       "        "
      ],
      "text/plain": [
       "<EqualityOfOddsJupy.EqualityOfOddsJupy at 0x7fa600c51420>"
      ]
     },
     "execution_count": 20,
     "metadata": {},
     "output_type": "execute_result"
    }
   ],
   "source": [
    "EqualityOfOddsJupy()"
   ]
  },
  {
   "cell_type": "markdown",
   "metadata": {},
   "source": [
    "### Create training, test, and validation datasets \n",
    "\n",
    "To get training, test, and validation sets, use scikit-learn's [train_test_split()](https://scikit-learn.org/stable/modules/generated/sklearn.model_selection.train_test_split.html) function."
   ]
  },
  {
   "cell_type": "code",
   "execution_count": 21,
   "metadata": {},
   "outputs": [
    {
     "name": "stdout",
     "output_type": "stream",
     "text": [
      "Train - Test - Validation dataset shapes:  (42458, 10) (5551, 10) (7493, 10)\n"
     ]
    }
   ],
   "source": [
    "train_data, test_data = train_test_split(\n",
    "    df, test_size=0.1, shuffle=True, random_state=23\n",
    ")\n",
    "\n",
    "train_data, val_data = train_test_split(\n",
    "    train_data, test_size=0.15, shuffle=True, random_state=23\n",
    ")\n",
    "\n",
    "# Print the shapes of the datasets\n",
    "print(\n",
    "    \"Train - Test - Validation dataset shapes: \",\n",
    "    train_data.shape,\n",
    "    test_data.shape,\n",
    "    val_data.shape,\n",
    ")"
   ]
  },
  {
   "cell_type": "markdown",
   "metadata": {},
   "source": [
    "### Process the data with a pipeline and ColumnTransformer \n",
    "\n",
    "Next, you will build a data processing pipeline. You need a preprocessing split per data type. Then, you will combine everything into a composite pipeline. To achieve this, you will use scikit-learn's `Pipeline` and `ColumnTransformer`.\n",
    "\n",
    "__Step 1: Set up preprocessing per data type__\n",
    "\n",
    "For the numerical features pipeline (`numerical_processor` in the following code cell), impute missing values with the mean by using scikit-learn's `SimpleImputer`. Then, use `MinMaxScaler` (you don't need to scale features when using decision trees, but it's a good idea to see how to use data transforms). If different processing is desired for different numerical features, you should build different pipelines, as shown for the two categorical text features.\n",
    "\n",
    "In the categorical features pipeline, (`categorical_processor` in the following code cell), impute with a placeholder value and encode with scikit-learn's `OneHotEncoder`. If computing memory is an issue, it is a good idea to check unique values for categoricals to get an estimate of how many dummy features will be created by one-hot encoding. Note the `handle_unknown` parameter, which tells the encoder to ignore (rather than throw an error for) any unique value that might show in the validation or test set that was not present in the initial training set.\n",
    "\n",
    "__Step 2: Combine preprocessing methods into a transformer__ \n",
    "\n",
    "The selective preparations of the dataset features are then put together into a collective `ColumnTransformer` to finally be used in a pipeline along with an estimator. This ensures that the transforms are performed automatically on the raw data when fitting the model and when making predictions, such as when evaluating the model on a validation dataset through cross-validation or making predictions on a test dataset in the future."
   ]
  },
  {
   "cell_type": "code",
   "execution_count": 22,
   "metadata": {},
   "outputs": [],
   "source": [
    "### STEP 1 ###\n",
    "##############\n",
    "\n",
    "# Preprocess the numerical features\n",
    "numerical_processor = Pipeline(\n",
    "    [(\"num_imputer\", SimpleImputer(strategy=\"mean\")), (\"num_scaler\", MinMaxScaler())]\n",
    ")\n",
    "# Preprocess the categorical features\n",
    "categorical_processor = Pipeline(\n",
    "    [\n",
    "        (\"cat_imputer\", SimpleImputer(strategy=\"constant\", fill_value=\"missing\")),\n",
    "        (\"cat_encoder\", OneHotEncoder(handle_unknown=\"ignore\")),\n",
    "    ]\n",
    ")\n",
    "\n",
    "### STEP 2 ###\n",
    "##############\n",
    "\n",
    "# Combine all data preprocessors from step 1\n",
    "data_processor = ColumnTransformer(\n",
    "    [\n",
    "        (\"numerical_processing\", numerical_processor, numerical_features),\n",
    "        (\"categorical_processing\", categorical_processor, categorical_features),\n",
    "    ],\n",
    "    remainder=\"drop\",\n",
    ")"
   ]
  },
  {
   "cell_type": "markdown",
   "metadata": {},
   "source": [
    "Apply the transformation before performing DI removal."
   ]
  },
  {
   "cell_type": "code",
   "execution_count": 23,
   "metadata": {
    "tags": []
   },
   "outputs": [],
   "source": [
    "# Learn the transformation and extract the feature names\n",
    "data_processor.fit(train_data)\n",
    "\n",
    "# To extract feature names, first fit the data processor because\n",
    "# this will generate the one-hot encoding\n",
    "ft_names = numerical_features + list(\n",
    "    data_processor.transformers_[1][1]\n",
    "    .named_steps[\"cat_encoder\"]\n",
    "    .get_feature_names_out(categorical_features)\n",
    ")\n",
    "\n",
    "train_prep = data_processor.transform(train_data).todense()\n",
    "\n",
    "prep = np.concatenate(\n",
    "    (\n",
    "        train_prep,\n",
    "        train_data[[model_target]].values,\n",
    "        train_data[[sensitive_attribute]].values,\n",
    "    ),\n",
    "    axis=1,\n",
    ")\n",
    "\n",
    "# Add column names and convert to a DataFrame\n",
    "prep_df = pd.DataFrame(prep, columns=ft_names + [model_target] + [sensitive_attribute])"
   ]
  },
  {
   "cell_type": "markdown",
   "metadata": {},
   "source": [
    "For the DI transformation, you need to create an Artificial Intelligence Fairness (AIF360) dataset using the AIF360 library. You can do this by using `BinaryLabelDataset`. Then, you can use `DisparateImpactRemover`."
   ]
  },
  {
   "cell_type": "code",
   "execution_count": 24,
   "metadata": {},
   "outputs": [],
   "source": [
    "# Create a dataset construct for AIF360\n",
    "binaryLabelDataset = BinaryLabelDataset(\n",
    "    df=prep_df,\n",
    "    label_names=[\">50k\"],\n",
    "    protected_attribute_names=[\"RAC1P\"],\n",
    "    favorable_label=1.0,\n",
    "    unfavorable_label=0.0,\n",
    ")\n",
    "\n",
    "# Use DisparateImpactRemover at a medium repair level\n",
    "di_remover = DisparateImpactRemover(repair_level=0.9)\n",
    "\n",
    "# Perform the transformation\n",
    "binaryLabelDataset_transform = di_remover.fit_transform(binaryLabelDataset)\n",
    "\n",
    "# Save as a DataFrame\n",
    "df_transform = binaryLabelDataset_transform.convert_to_dataframe()[0]"
   ]
  },
  {
   "cell_type": "code",
   "execution_count": 25,
   "metadata": {},
   "outputs": [
    {
     "data": {
      "text/html": [
       "<div>\n",
       "<style scoped>\n",
       "    .dataframe tbody tr th:only-of-type {\n",
       "        vertical-align: middle;\n",
       "    }\n",
       "\n",
       "    .dataframe tbody tr th {\n",
       "        vertical-align: top;\n",
       "    }\n",
       "\n",
       "    .dataframe thead th {\n",
       "        text-align: right;\n",
       "    }\n",
       "</style>\n",
       "<table border=\"1\" class=\"dataframe\">\n",
       "  <thead>\n",
       "    <tr style=\"text-align: right;\">\n",
       "      <th></th>\n",
       "      <th>AGEP</th>\n",
       "      <th>WKHP</th>\n",
       "      <th>PWGTP</th>\n",
       "      <th>COW_1.0</th>\n",
       "      <th>COW_2.0</th>\n",
       "      <th>COW_3.0</th>\n",
       "      <th>COW_4.0</th>\n",
       "      <th>COW_5.0</th>\n",
       "      <th>COW_6.0</th>\n",
       "      <th>COW_7.0</th>\n",
       "      <th>...</th>\n",
       "      <th>RELP_12.0</th>\n",
       "      <th>RELP_13.0</th>\n",
       "      <th>RELP_14.0</th>\n",
       "      <th>RELP_15.0</th>\n",
       "      <th>RELP_16.0</th>\n",
       "      <th>RELP_17.0</th>\n",
       "      <th>SEX_1.0</th>\n",
       "      <th>SEX_2.0</th>\n",
       "      <th>RAC1P</th>\n",
       "      <th>&gt;50k</th>\n",
       "    </tr>\n",
       "  </thead>\n",
       "  <tbody>\n",
       "    <tr>\n",
       "      <th>0</th>\n",
       "      <td>0.259740</td>\n",
       "      <td>0.295918</td>\n",
       "      <td>0.045711</td>\n",
       "      <td>0.0</td>\n",
       "      <td>0.0</td>\n",
       "      <td>0.0</td>\n",
       "      <td>0.0</td>\n",
       "      <td>0.0</td>\n",
       "      <td>1.0</td>\n",
       "      <td>0.0</td>\n",
       "      <td>...</td>\n",
       "      <td>0.0</td>\n",
       "      <td>0.0</td>\n",
       "      <td>0.0</td>\n",
       "      <td>0.0</td>\n",
       "      <td>0.0</td>\n",
       "      <td>0.0</td>\n",
       "      <td>0.0</td>\n",
       "      <td>1.0</td>\n",
       "      <td>6.0</td>\n",
       "      <td>0.0</td>\n",
       "    </tr>\n",
       "    <tr>\n",
       "      <th>1</th>\n",
       "      <td>0.259740</td>\n",
       "      <td>0.540816</td>\n",
       "      <td>0.035692</td>\n",
       "      <td>1.0</td>\n",
       "      <td>0.0</td>\n",
       "      <td>0.0</td>\n",
       "      <td>0.0</td>\n",
       "      <td>0.0</td>\n",
       "      <td>0.0</td>\n",
       "      <td>0.0</td>\n",
       "      <td>...</td>\n",
       "      <td>0.0</td>\n",
       "      <td>0.0</td>\n",
       "      <td>0.0</td>\n",
       "      <td>0.0</td>\n",
       "      <td>0.0</td>\n",
       "      <td>0.0</td>\n",
       "      <td>1.0</td>\n",
       "      <td>0.0</td>\n",
       "      <td>6.0</td>\n",
       "      <td>1.0</td>\n",
       "    </tr>\n",
       "    <tr>\n",
       "      <th>2</th>\n",
       "      <td>0.051948</td>\n",
       "      <td>0.010204</td>\n",
       "      <td>0.045085</td>\n",
       "      <td>1.0</td>\n",
       "      <td>0.0</td>\n",
       "      <td>0.0</td>\n",
       "      <td>0.0</td>\n",
       "      <td>0.0</td>\n",
       "      <td>0.0</td>\n",
       "      <td>0.0</td>\n",
       "      <td>...</td>\n",
       "      <td>0.0</td>\n",
       "      <td>0.0</td>\n",
       "      <td>0.0</td>\n",
       "      <td>0.0</td>\n",
       "      <td>0.0</td>\n",
       "      <td>1.0</td>\n",
       "      <td>1.0</td>\n",
       "      <td>0.0</td>\n",
       "      <td>6.0</td>\n",
       "      <td>0.0</td>\n",
       "    </tr>\n",
       "    <tr>\n",
       "      <th>3</th>\n",
       "      <td>0.220779</td>\n",
       "      <td>0.397959</td>\n",
       "      <td>0.035066</td>\n",
       "      <td>1.0</td>\n",
       "      <td>0.0</td>\n",
       "      <td>0.0</td>\n",
       "      <td>0.0</td>\n",
       "      <td>0.0</td>\n",
       "      <td>0.0</td>\n",
       "      <td>0.0</td>\n",
       "      <td>...</td>\n",
       "      <td>0.0</td>\n",
       "      <td>0.0</td>\n",
       "      <td>0.0</td>\n",
       "      <td>0.0</td>\n",
       "      <td>0.0</td>\n",
       "      <td>0.0</td>\n",
       "      <td>0.0</td>\n",
       "      <td>1.0</td>\n",
       "      <td>6.0</td>\n",
       "      <td>0.0</td>\n",
       "    </tr>\n",
       "    <tr>\n",
       "      <th>4</th>\n",
       "      <td>0.038961</td>\n",
       "      <td>0.020408</td>\n",
       "      <td>0.062617</td>\n",
       "      <td>0.0</td>\n",
       "      <td>1.0</td>\n",
       "      <td>0.0</td>\n",
       "      <td>0.0</td>\n",
       "      <td>0.0</td>\n",
       "      <td>0.0</td>\n",
       "      <td>0.0</td>\n",
       "      <td>...</td>\n",
       "      <td>0.0</td>\n",
       "      <td>0.0</td>\n",
       "      <td>0.0</td>\n",
       "      <td>0.0</td>\n",
       "      <td>0.0</td>\n",
       "      <td>1.0</td>\n",
       "      <td>0.0</td>\n",
       "      <td>1.0</td>\n",
       "      <td>6.0</td>\n",
       "      <td>0.0</td>\n",
       "    </tr>\n",
       "  </tbody>\n",
       "</table>\n",
       "<p>5 rows × 62 columns</p>\n",
       "</div>"
      ],
      "text/plain": [
       "       AGEP      WKHP     PWGTP  COW_1.0  COW_2.0  COW_3.0  COW_4.0  COW_5.0  \\\n",
       "0  0.259740  0.295918  0.045711      0.0      0.0      0.0      0.0      0.0   \n",
       "1  0.259740  0.540816  0.035692      1.0      0.0      0.0      0.0      0.0   \n",
       "2  0.051948  0.010204  0.045085      1.0      0.0      0.0      0.0      0.0   \n",
       "3  0.220779  0.397959  0.035066      1.0      0.0      0.0      0.0      0.0   \n",
       "4  0.038961  0.020408  0.062617      0.0      1.0      0.0      0.0      0.0   \n",
       "\n",
       "   COW_6.0  COW_7.0  ...  RELP_12.0  RELP_13.0  RELP_14.0  RELP_15.0  \\\n",
       "0      1.0      0.0  ...        0.0        0.0        0.0        0.0   \n",
       "1      0.0      0.0  ...        0.0        0.0        0.0        0.0   \n",
       "2      0.0      0.0  ...        0.0        0.0        0.0        0.0   \n",
       "3      0.0      0.0  ...        0.0        0.0        0.0        0.0   \n",
       "4      0.0      0.0  ...        0.0        0.0        0.0        0.0   \n",
       "\n",
       "   RELP_16.0  RELP_17.0  SEX_1.0  SEX_2.0  RAC1P  >50k  \n",
       "0        0.0        0.0      0.0      1.0    6.0   0.0  \n",
       "1        0.0        0.0      1.0      0.0    6.0   1.0  \n",
       "2        0.0        1.0      1.0      0.0    6.0   0.0  \n",
       "3        0.0        0.0      0.0      1.0    6.0   0.0  \n",
       "4        0.0        1.0      0.0      1.0    6.0   0.0  \n",
       "\n",
       "[5 rows x 62 columns]"
      ]
     },
     "execution_count": 25,
     "metadata": {},
     "output_type": "execute_result"
    }
   ],
   "source": [
    "# Print the first rows of the transformed dataset\n",
    "df_transform.head()"
   ]
  },
  {
   "cell_type": "markdown",
   "metadata": {},
   "source": [
    "For easier readability, show the original DataFrame so that you can compare directly."
   ]
  },
  {
   "cell_type": "code",
   "execution_count": 26,
   "metadata": {},
   "outputs": [
    {
     "data": {
      "text/html": [
       "<div>\n",
       "<style scoped>\n",
       "    .dataframe tbody tr th:only-of-type {\n",
       "        vertical-align: middle;\n",
       "    }\n",
       "\n",
       "    .dataframe tbody tr th {\n",
       "        vertical-align: top;\n",
       "    }\n",
       "\n",
       "    .dataframe thead th {\n",
       "        text-align: right;\n",
       "    }\n",
       "</style>\n",
       "<table border=\"1\" class=\"dataframe\">\n",
       "  <thead>\n",
       "    <tr style=\"text-align: right;\">\n",
       "      <th></th>\n",
       "      <th>AGEP</th>\n",
       "      <th>WKHP</th>\n",
       "      <th>PWGTP</th>\n",
       "      <th>COW_1.0</th>\n",
       "      <th>COW_2.0</th>\n",
       "      <th>COW_3.0</th>\n",
       "      <th>COW_4.0</th>\n",
       "      <th>COW_5.0</th>\n",
       "      <th>COW_6.0</th>\n",
       "      <th>COW_7.0</th>\n",
       "      <th>...</th>\n",
       "      <th>RELP_12.0</th>\n",
       "      <th>RELP_13.0</th>\n",
       "      <th>RELP_14.0</th>\n",
       "      <th>RELP_15.0</th>\n",
       "      <th>RELP_16.0</th>\n",
       "      <th>RELP_17.0</th>\n",
       "      <th>SEX_1.0</th>\n",
       "      <th>SEX_2.0</th>\n",
       "      <th>&gt;50k</th>\n",
       "      <th>RAC1P</th>\n",
       "    </tr>\n",
       "  </thead>\n",
       "  <tbody>\n",
       "    <tr>\n",
       "      <th>0</th>\n",
       "      <td>0.272727</td>\n",
       "      <td>0.295918</td>\n",
       "      <td>0.045711</td>\n",
       "      <td>0.0</td>\n",
       "      <td>0.0</td>\n",
       "      <td>0.0</td>\n",
       "      <td>0.0</td>\n",
       "      <td>0.0</td>\n",
       "      <td>1.0</td>\n",
       "      <td>0.0</td>\n",
       "      <td>...</td>\n",
       "      <td>0.0</td>\n",
       "      <td>0.0</td>\n",
       "      <td>0.0</td>\n",
       "      <td>0.0</td>\n",
       "      <td>0.0</td>\n",
       "      <td>0.0</td>\n",
       "      <td>0.0</td>\n",
       "      <td>1.0</td>\n",
       "      <td>0.0</td>\n",
       "      <td>6.0</td>\n",
       "    </tr>\n",
       "    <tr>\n",
       "      <th>1</th>\n",
       "      <td>0.272727</td>\n",
       "      <td>0.55102</td>\n",
       "      <td>0.035692</td>\n",
       "      <td>1.0</td>\n",
       "      <td>0.0</td>\n",
       "      <td>0.0</td>\n",
       "      <td>0.0</td>\n",
       "      <td>0.0</td>\n",
       "      <td>0.0</td>\n",
       "      <td>0.0</td>\n",
       "      <td>...</td>\n",
       "      <td>0.0</td>\n",
       "      <td>0.0</td>\n",
       "      <td>0.0</td>\n",
       "      <td>0.0</td>\n",
       "      <td>0.0</td>\n",
       "      <td>0.0</td>\n",
       "      <td>1.0</td>\n",
       "      <td>0.0</td>\n",
       "      <td>1.0</td>\n",
       "      <td>6.0</td>\n",
       "    </tr>\n",
       "    <tr>\n",
       "      <th>2</th>\n",
       "      <td>0.051948</td>\n",
       "      <td>0.010204</td>\n",
       "      <td>0.045085</td>\n",
       "      <td>1.0</td>\n",
       "      <td>0.0</td>\n",
       "      <td>0.0</td>\n",
       "      <td>0.0</td>\n",
       "      <td>0.0</td>\n",
       "      <td>0.0</td>\n",
       "      <td>0.0</td>\n",
       "      <td>...</td>\n",
       "      <td>0.0</td>\n",
       "      <td>0.0</td>\n",
       "      <td>0.0</td>\n",
       "      <td>0.0</td>\n",
       "      <td>0.0</td>\n",
       "      <td>1.0</td>\n",
       "      <td>1.0</td>\n",
       "      <td>0.0</td>\n",
       "      <td>0.0</td>\n",
       "      <td>6.0</td>\n",
       "    </tr>\n",
       "    <tr>\n",
       "      <th>3</th>\n",
       "      <td>0.233766</td>\n",
       "      <td>0.397959</td>\n",
       "      <td>0.035066</td>\n",
       "      <td>1.0</td>\n",
       "      <td>0.0</td>\n",
       "      <td>0.0</td>\n",
       "      <td>0.0</td>\n",
       "      <td>0.0</td>\n",
       "      <td>0.0</td>\n",
       "      <td>0.0</td>\n",
       "      <td>...</td>\n",
       "      <td>0.0</td>\n",
       "      <td>0.0</td>\n",
       "      <td>0.0</td>\n",
       "      <td>0.0</td>\n",
       "      <td>0.0</td>\n",
       "      <td>0.0</td>\n",
       "      <td>0.0</td>\n",
       "      <td>1.0</td>\n",
       "      <td>0.0</td>\n",
       "      <td>6.0</td>\n",
       "    </tr>\n",
       "    <tr>\n",
       "      <th>4</th>\n",
       "      <td>0.038961</td>\n",
       "      <td>0.020408</td>\n",
       "      <td>0.062617</td>\n",
       "      <td>0.0</td>\n",
       "      <td>1.0</td>\n",
       "      <td>0.0</td>\n",
       "      <td>0.0</td>\n",
       "      <td>0.0</td>\n",
       "      <td>0.0</td>\n",
       "      <td>0.0</td>\n",
       "      <td>...</td>\n",
       "      <td>0.0</td>\n",
       "      <td>0.0</td>\n",
       "      <td>0.0</td>\n",
       "      <td>0.0</td>\n",
       "      <td>0.0</td>\n",
       "      <td>1.0</td>\n",
       "      <td>0.0</td>\n",
       "      <td>1.0</td>\n",
       "      <td>0.0</td>\n",
       "      <td>6.0</td>\n",
       "    </tr>\n",
       "  </tbody>\n",
       "</table>\n",
       "<p>5 rows × 62 columns</p>\n",
       "</div>"
      ],
      "text/plain": [
       "       AGEP      WKHP     PWGTP COW_1.0 COW_2.0 COW_3.0 COW_4.0 COW_5.0  \\\n",
       "0  0.272727  0.295918  0.045711     0.0     0.0     0.0     0.0     0.0   \n",
       "1  0.272727   0.55102  0.035692     1.0     0.0     0.0     0.0     0.0   \n",
       "2  0.051948  0.010204  0.045085     1.0     0.0     0.0     0.0     0.0   \n",
       "3  0.233766  0.397959  0.035066     1.0     0.0     0.0     0.0     0.0   \n",
       "4  0.038961  0.020408  0.062617     0.0     1.0     0.0     0.0     0.0   \n",
       "\n",
       "  COW_6.0 COW_7.0  ... RELP_12.0 RELP_13.0 RELP_14.0 RELP_15.0 RELP_16.0  \\\n",
       "0     1.0     0.0  ...       0.0       0.0       0.0       0.0       0.0   \n",
       "1     0.0     0.0  ...       0.0       0.0       0.0       0.0       0.0   \n",
       "2     0.0     0.0  ...       0.0       0.0       0.0       0.0       0.0   \n",
       "3     0.0     0.0  ...       0.0       0.0       0.0       0.0       0.0   \n",
       "4     0.0     0.0  ...       0.0       0.0       0.0       0.0       0.0   \n",
       "\n",
       "  RELP_17.0 SEX_1.0 SEX_2.0 >50k RAC1P  \n",
       "0       0.0     0.0     1.0  0.0   6.0  \n",
       "1       0.0     1.0     0.0  1.0   6.0  \n",
       "2       1.0     1.0     0.0  0.0   6.0  \n",
       "3       0.0     0.0     1.0  0.0   6.0  \n",
       "4       1.0     0.0     1.0  0.0   6.0  \n",
       "\n",
       "[5 rows x 62 columns]"
      ]
     },
     "execution_count": 26,
     "metadata": {},
     "output_type": "execute_result"
    }
   ],
   "source": [
    "# Print the first rows of the orignal dataset\n",
    "prep_df.head()"
   ]
  },
  {
   "cell_type": "markdown",
   "metadata": {},
   "source": [
    "Now, look at the transformed dataset. You can see that certain values were adjusted."
   ]
  },
  {
   "cell_type": "markdown",
   "metadata": {},
   "source": [
    "As a final check, you can also calculate the DI value. To do this, you need to specify which group is favored."
   ]
  },
  {
   "cell_type": "code",
   "execution_count": 27,
   "metadata": {},
   "outputs": [],
   "source": [
    "# Declare what the attribute value of the (un)privileged group is\n",
    "priv_group = [{\"RAC1P\": 6}]\n",
    "unpriv_group = [{\"RAC1P\": 8}]\n",
    "\n",
    "# Find out which index the sensitive attribute has to delete later\n",
    "sensitive_attribute_index = binaryLabelDataset_transform.feature_names.index(\n",
    "    sensitive_attribute\n",
    ")"
   ]
  },
  {
   "cell_type": "markdown",
   "metadata": {},
   "source": [
    "Next, calculate the DI value with the AIF360 inbuilt method `BinaryLabelDatasetMetric()`. You need to pass the DataFrame into the metric, and then you can calculate DI by using `.disparate_impact()`."
   ]
  },
  {
   "cell_type": "code",
   "execution_count": 28,
   "metadata": {},
   "outputs": [
    {
     "name": "stdout",
     "output_type": "stream",
     "text": [
      "0.39943748594510425\n"
     ]
    }
   ],
   "source": [
    "# Calculate the DI value\n",
    "print(\n",
    "    BinaryLabelDatasetMetric(\n",
    "        binaryLabelDataset,\n",
    "        unprivileged_groups=unpriv_group,\n",
    "        privileged_groups=priv_group,\n",
    "    ).disparate_impact()\n",
    ")"
   ]
  },
  {
   "cell_type": "markdown",
   "metadata": {},
   "source": [
    "To see how to calculate the DI value for the transformed dataset, run the following code:"
   ]
  },
  {
   "cell_type": "code",
   "execution_count": 29,
   "metadata": {},
   "outputs": [
    {
     "data": {
      "text/plain": [
       "0.39943748594510425"
      ]
     },
     "execution_count": 29,
     "metadata": {},
     "output_type": "execute_result"
    }
   ],
   "source": [
    "BinaryLabelDatasetMetric(\n",
    "        binaryLabelDataset_transform,\n",
    "        unprivileged_groups=unpriv_group,\n",
    "        privileged_groups=priv_group,\n",
    "    ).disparate_impact()"
   ]
  },
  {
   "cell_type": "markdown",
   "metadata": {},
   "source": [
    "The value shouldn't change because the remover does not touch the labels. The goal of the DI remover is to shift the distribution of the nonsensitive features while preserving the labels."
   ]
  },
  {
   "cell_type": "markdown",
   "metadata": {},
   "source": [
    "---\n",
    "## Train a classifier\n",
    "\n",
    "Use the transformed dataset and a logistic regression estimator for training.\n",
    "\n",
    "Train the classifier with `.fit()` on the repaired training dataset."
   ]
  },
  {
   "cell_type": "code",
   "execution_count": 30,
   "metadata": {},
   "outputs": [],
   "source": [
    "# Extract features (and delete the sensitive attribute) and label\n",
    "X_train = np.delete(\n",
    "    binaryLabelDataset_transform.features, sensitive_attribute_index, axis=1\n",
    ")\n",
    "y_train = binaryLabelDataset_transform.labels.ravel()\n",
    "\n",
    "# Initialize model\n",
    "lr = LogisticRegression(solver=\"liblinear\", penalty=\"l2\", C=0.001)\n",
    "\n",
    "\n",
    "# Train model\n",
    "lr.fit(X_train, y_train)\n",
    "\n",
    "# Predict\n",
    "y_train_pred = lr.predict(X_train)"
   ]
  },
  {
   "cell_type": "markdown",
   "metadata": {},
   "source": [
    "---\n",
    "## Test the classifier\n",
    "\n",
    "Now, evaluate the performance of the trained classifier on the transformed test dataset by using `.predict()`.\n",
    "\n",
    "Make sure to repair (DI transform) the test dataset as well."
   ]
  },
  {
   "cell_type": "code",
   "execution_count": 31,
   "metadata": {},
   "outputs": [],
   "source": [
    "test_prep = np.concatenate(\n",
    "    (\n",
    "        data_processor.transform(test_data).todense(),\n",
    "        test_data[[model_target]].values,\n",
    "        test_data[[sensitive_attribute]].values,\n",
    "    ),\n",
    "    axis=1,\n",
    ")\n",
    "\n",
    "# Add column names and convert to a DataFrame\n",
    "test_prep_df = pd.DataFrame(\n",
    "    test_prep, columns=ft_names + [model_target] + [sensitive_attribute]\n",
    ")\n",
    "\n",
    "# Create a dataset construct for AIF360\n",
    "binaryLabelDataset_test = BinaryLabelDataset(\n",
    "    df=test_prep_df,\n",
    "    label_names=[\">50k\"],\n",
    "    protected_attribute_names=[\"RAC1P\"],\n",
    "    favorable_label=1.0,\n",
    "    unfavorable_label=0.0,\n",
    ")\n",
    "\n",
    "# Transform the test dataset\n",
    "test_repd = di_remover.fit_transform(binaryLabelDataset_test)\n",
    "\n",
    "# Get test data to validate the classifier\n",
    "X_test = np.delete(test_repd.features, sensitive_attribute_index, axis=1)\n",
    "y_test = test_repd.labels.ravel()\n",
    "\n",
    "# Use the fitted model to make predictions on the test dataset\n",
    "test_predictions = lr.predict(X_test)"
   ]
  },
  {
   "cell_type": "markdown",
   "metadata": {},
   "source": [
    "<div style=\"border: 4px solid coral; text-align: center; margin: auto;\">\n",
    "    <h3><i>Try it yourself!</i></h3>\n",
    "    <br>\n",
    "    <p style=\"text-align:center;margin:auto;\"><img src=\"./images/activity.png\" alt=\"Activity\" width=\"100\" /> </p>\n",
    "    <p style=\" text-align: center; margin: auto;\">How can you calculate the accuracy for the test dataset?</p>\n",
    "    <p style=\" text-align: center; margin: auto;\">To answer the question, run the following cell.</p>\n",
    "    <br>\n",
    "</div>"
   ]
  },
  {
   "cell_type": "code",
   "execution_count": 32,
   "metadata": {},
   "outputs": [
    {
     "data": {
      "text/html": [
       "\n",
       "        <script>var Quiz=function(){\"use strict\";var M=document.createElement(\"style\");M.textContent=`.quiz-wrapper.svelte-fk6ar3{padding:1rem}.footer.svelte-fk6ar3{display:flex;align-items:center}h2.svelte-fk6ar3{font-size:1.5rem;margin-bottom:2rem;color:#232f3e}p.svelte-fk6ar3{font-size:16px}.options.svelte-fk6ar3{display:grid;grid-template-columns:repeat(2,50%);grid-template-rows:repeat(2,1fr);width:100%;margin:auto;justify-content:center}.mlu-quizquestion-option-button.svelte-fk6ar3{padding:1rem;margin:.5rem}.submit-button.svelte-fk6ar3{padding:1rem;margin:.5rem;width:90px;color:#fff;background-color:coral}.active.svelte-fk6ar3{background-color:#232f3e;color:#fff}.correct-answer.svelte-fk6ar3{background-color:green}.incorrect-answer.svelte-fk6ar3{background-color:red;text-decoration:line-through}.available.svelte-fk6ar3{pointer-events:none;opacity:.6}\n",
       "`,document.head.appendChild(M);function I(){}function P(e){return e()}function W(){return Object.create(null)}function O(e){e.forEach(P)}function X(e){return typeof e==\"function\"}function Z(e,t){return e!=e?t==t:e!==t||e&&typeof e==\"object\"||typeof e==\"function\"}function x(e){return Object.keys(e).length===0}function m(e,t){e.appendChild(t)}function j(e,t,n){e.insertBefore(t,n||null)}function z(e){e.parentNode&&e.parentNode.removeChild(e)}function ee(e,t){for(let n=0;n<e.length;n+=1)e[n]&&e[n].d(t)}function k(e){return document.createElement(e)}function A(e){return document.createTextNode(e)}function S(){return A(\" \")}function te(){return A(\"\")}function Y(e,t,n,r){return e.addEventListener(t,n,r),()=>e.removeEventListener(t,n,r)}function v(e,t,n){n==null?e.removeAttribute(t):e.getAttribute(t)!==n&&e.setAttribute(t,n)}function ne(e){return Array.from(e.childNodes)}function T(e,t){t=\"\"+t,e.wholeText!==t&&(e.data=t)}function p(e,t,n){e.classList[n?\"add\":\"remove\"](t)}let L;function N(e){L=e}const $=[],D=[],Q=[],F=[],re=Promise.resolve();let B=!1;function oe(){B||(B=!0,re.then(H))}function R(e){Q.push(e)}const G=new Set;let E=0;function H(){if(E!==0)return;const e=L;do{try{for(;E<$.length;){const t=$[E];E++,N(t),le(t.$$)}}catch(t){throw $.length=0,E=0,t}for(N(null),$.length=0,E=0;D.length;)D.pop()();for(let t=0;t<Q.length;t+=1){const n=Q[t];G.has(n)||(G.add(n),n())}Q.length=0}while($.length);for(;F.length;)F.pop()();B=!1,G.clear(),N(e)}function le(e){if(e.fragment!==null){e.update(),O(e.before_update);const t=e.dirty;e.dirty=[-1],e.fragment&&e.fragment.p(e.ctx,t),e.after_update.forEach(R)}}const ie=new Set;function se(e,t){e&&e.i&&(ie.delete(e),e.i(t))}function ce(e,t,n,r){const{fragment:l,after_update:i}=e.$$;l&&l.m(t,n),r||R(()=>{const s=e.$$.on_mount.map(P).filter(X);e.$$.on_destroy?e.$$.on_destroy.push(...s):O(s),e.$$.on_mount=[]}),i.forEach(R)}function fe(e,t){const n=e.$$;n.fragment!==null&&(O(n.on_destroy),n.fragment&&n.fragment.d(t),n.on_destroy=n.fragment=null,n.ctx=[])}function ue(e,t){e.$$.dirty[0]===-1&&($.push(e),oe(),e.$$.dirty.fill(0)),e.$$.dirty[t/31|0]|=1<<t%31}function ae(e,t,n,r,l,i,s,g=[-1]){const c=L;N(e);const o=e.$$={fragment:null,ctx:[],props:i,update:I,not_equal:l,bound:W(),on_mount:[],on_destroy:[],on_disconnect:[],before_update:[],after_update:[],context:new Map(t.context||(c?c.$$.context:[])),callbacks:W(),dirty:g,skip_bound:!1,root:t.target||c.$$.root};s&&s(o.root);let b=!1;if(o.ctx=n?n(e,t.props||{},(a,q,...y)=>{const h=y.length?y[0]:q;return o.ctx&&l(o.ctx[a],o.ctx[a]=h)&&(!o.skip_bound&&o.bound[a]&&o.bound[a](h),b&&ue(e,a)),q}):[],o.update(),b=!0,O(o.before_update),o.fragment=r?r(o.ctx):!1,t.target){if(t.hydrate){const a=ne(t.target);o.fragment&&o.fragment.l(a),a.forEach(z)}else o.fragment&&o.fragment.c();t.intro&&se(e.$$.fragment),ce(e,t.target,t.anchor,t.customElement),H()}N(c)}class de{$destroy(){fe(this,1),this.$destroy=I}$on(t,n){if(!X(n))return I;const r=this.$$.callbacks[t]||(this.$$.callbacks[t]=[]);return r.push(n),()=>{const l=r.indexOf(n);l!==-1&&r.splice(l,1)}}$set(t){this.$$set&&!x(t)&&(this.$$.skip_bound=!0,this.$$set(t),this.$$.skip_bound=!1)}}const be=\"\";function J(e,t,n){const r=e.slice();return r[11]=t[n],r[13]=n,r}function K(e){let t,n=e[11]+\"\",r,l,i,s;function g(){return e[9](e[13])}return{c(){t=k(\"button\"),r=A(n),l=S(),v(t,\"class\",\"mlu-quizquestion-option-button button svelte-fk6ar3\"),p(t,\"active\",e[5]===e[13]),p(t,\"correct-answer\",e[1]&&e[5]===e[13]&&e[2]==e[0].correctIndex),p(t,\"incorrect-answer\",e[1]&&e[5]===e[13]&&e[2]!=e[0].correctIndex),p(t,\"available\",e[4]&&e[1])},m(c,o){j(c,t,o),m(t,r),m(t,l),i||(s=Y(t,\"click\",g),i=!0)},p(c,o){e=c,o&1&&n!==(n=e[11]+\"\")&&T(r,n),o&32&&p(t,\"active\",e[5]===e[13]),o&39&&p(t,\"correct-answer\",e[1]&&e[5]===e[13]&&e[2]==e[0].correctIndex),o&39&&p(t,\"incorrect-answer\",e[1]&&e[5]===e[13]&&e[2]!=e[0].correctIndex),o&18&&p(t,\"available\",e[4]&&e[1])},d(c){c&&z(t),i=!1,s()}}}function U(e){let t;function n(i,s){return i[3]==!0?he:_e}let r=n(e),l=r(e);return{c(){l.c(),t=te()},m(i,s){l.m(i,s),j(i,t,s)},p(i,s){r!==(r=n(i))&&(l.d(1),l=r(i),l&&(l.c(),l.m(t.parentNode,t)))},d(i){l.d(i),i&&z(t)}}}function _e(e){let t;return{c(){t=k(\"p\"),t.textContent=\"This is not the correct answer. Try again!\",v(t,\"class\",\"svelte-fk6ar3\")},m(n,r){j(n,t,r)},d(n){n&&z(t)}}}function he(e){let t;return{c(){t=k(\"p\"),t.textContent=\"Good! You got the correct answer.\",v(t,\"class\",\"svelte-fk6ar3\")},m(n,r){j(n,t,r)},d(n){n&&z(t)}}}function me(e){let t,n,r=e[0].question+\"\",l,i,s,g,c,o,b=e[1]?\"Retry\":\"Submit\",a,q,y,h,C=e[0].options,d=[];for(let f=0;f<C.length;f+=1)d[f]=K(J(e,C,f));let _=e[1]&&U(e);return{c(){t=k(\"div\"),n=k(\"h2\"),l=A(r),i=S(),s=k(\"div\");for(let f=0;f<d.length;f+=1)d[f].c();g=S(),c=k(\"div\"),o=k(\"button\"),a=A(b),q=S(),_&&_.c(),v(n,\"class\",\"svelte-fk6ar3\"),v(s,\"class\",\"options svelte-fk6ar3\"),v(o,\"class\",\"submit-button svelte-fk6ar3\"),p(o,\"available\",!e[4]),v(c,\"class\",\"footer svelte-fk6ar3\"),v(t,\"class\",\"quiz-wrapper svelte-fk6ar3\")},m(f,w){j(f,t,w),m(t,n),m(n,l),m(t,i),m(t,s);for(let u=0;u<d.length;u+=1)d[u].m(s,null);m(t,g),m(t,c),m(c,o),m(o,a),m(c,q),_&&_.m(c,null),y||(h=Y(o,\"click\",e[10]),y=!0)},p(f,[w]){if(w&1&&r!==(r=f[0].question+\"\")&&T(l,r),w&311){C=f[0].options;let u;for(u=0;u<C.length;u+=1){const V=J(f,C,u);d[u]?d[u].p(V,w):(d[u]=K(V),d[u].c(),d[u].m(s,null))}for(;u<d.length;u+=1)d[u].d(1);d.length=C.length}w&2&&b!==(b=f[1]?\"Retry\":\"Submit\")&&T(a,b),w&16&&p(o,\"available\",!f[4]),f[1]?_?_.p(f,w):(_=U(f),_.c(),_.m(c,null)):_&&(_.d(1),_=null)},i:I,o:I,d(f){f&&z(t),ee(d,f),_&&_.d(),y=!1,h()}}}function pe(e,t,n){let{question:r={question:\"Who didn't attend this meeting?\",options:[\"Xin\",\"Anand\",\"Brent\"],correctIndex:2}}=t,l=!1,i=-1,s=\"no\",g=!1,c;function o(){n(4,g=!1),n(1,l=!1),n(2,i=-1),n(5,c=-1),n(3,s=\"no\")}function b(){n(1,l=!0),n(3,s=i==r.correctIndex)}function a(h){n(4,g=!0),n(2,i=h),n(5,c=h)}const q=h=>a(h),y=()=>l?o():b();return e.$$set=h=>{\"question\"in h&&n(0,r=h.question)},[r,l,i,s,g,c,o,b,a,q,y]}class ge extends de{constructor(t){super(),ae(this,t,pe,me,Z,{question:0})}}return ge}();\n",
       "</script>\n",
       "        \n",
       "        <div id=\"Quiz-273a6183\"></div>\n",
       "        <script>\n",
       "        (() => {\n",
       "            var data = {\n",
       "\"question\": {\n",
       "\"question\": \"What is the correct code snippet to calculate accuracy for the test data?\",\n",
       "\"options\": [\n",
       "\"accuracy_score(test_predictions, y_test)\",\n",
       "\"accuracy(y_test, test_predictions)\",\n",
       "\"accuracy_score(y_test, test_predictions)\",\n",
       "\"None of the above\"\n",
       "],\n",
       "\"correctIndex\": 2\n",
       "}\n",
       "};\n",
       "            window.Quiz_data = data;\n",
       "            var Quiz_inst = new Quiz({\n",
       "                \"target\": document.getElementById(\"Quiz-273a6183\"),\n",
       "                \"props\": data\n",
       "            });\n",
       "        })();\n",
       "        </script>\n",
       "        \n",
       "        "
      ],
      "text/plain": [
       "<MLUMLA_EN_M3_Lab3_quiz_questions.Quiz at 0x7fa6015d94e0>"
      ]
     },
     "execution_count": 32,
     "metadata": {},
     "output_type": "execute_result"
    }
   ],
   "source": [
    "# Run this cell for a knowledge check question\n",
    "question_1"
   ]
  },
  {
   "cell_type": "markdown",
   "metadata": {},
   "source": [
    "From the previous notebooks, you might remember that the accuracy was similar.\n",
    "\n",
    "Now, check whether the outcomes are fairer too. For this, create a DataFrame that contains the predictions as well as the sensitive attribute and the true labels."
   ]
  },
  {
   "cell_type": "code",
   "execution_count": 33,
   "metadata": {},
   "outputs": [],
   "source": [
    "# Create a DataFrame that contains predictions and the sensitive attribute\n",
    "di_df = pd.concat(\n",
    "    [\n",
    "        test_data.reset_index(drop=True)[[\"RAC1P\", \">50k\"]],\n",
    "        pd.Series(test_predictions, name=\"y_test_pred_di\"),\n",
    "    ],\n",
    "    axis=1,\n",
    ")"
   ]
  },
  {
   "cell_type": "markdown",
   "metadata": {},
   "source": [
    "To check the DI of the predictions, you need to create a `BinaryLabelDataset` again."
   ]
  },
  {
   "cell_type": "code",
   "execution_count": 34,
   "metadata": {},
   "outputs": [],
   "source": [
    "# Create a dataset construct for AIF360\n",
    "pred_binaryLabelDataset = BinaryLabelDataset(\n",
    "    df=di_df,\n",
    "    label_names=[\"y_test_pred_di\"],\n",
    "    protected_attribute_names=[\"RAC1P\"],\n",
    "    favorable_label=1.0,\n",
    "    unfavorable_label=0.0,\n",
    ")"
   ]
  },
  {
   "cell_type": "code",
   "execution_count": 35,
   "metadata": {},
   "outputs": [
    {
     "name": "stdout",
     "output_type": "stream",
     "text": [
      "0.2190424795107897\n"
     ]
    }
   ],
   "source": [
    "print(\n",
    "    BinaryLabelDatasetMetric(\n",
    "        pred_binaryLabelDataset,\n",
    "        unprivileged_groups=unpriv_group,\n",
    "        privileged_groups=priv_group,\n",
    "    ).disparate_impact()\n",
    ")"
   ]
  },
  {
   "cell_type": "markdown",
   "metadata": {},
   "source": [
    "This is much lower than the values that you had originally (before the transformation). Remember that you want a value greater than 0.8 (and as close to 1 as possible).\n",
    "\n",
    "How good is this model in terms of outcomes for the individuals in the dataset?\n",
    "\n",
    "You can plot the distribution of targets and inspect whether the model works equally well for different subgroups."
   ]
  },
  {
   "cell_type": "code",
   "execution_count": 36,
   "metadata": {
    "tags": []
   },
   "outputs": [
    {
     "data": {
      "image/png": "[encoded data removed]",
      "text/plain": [
       "<Figure size 572x500 with 1 Axes>"
      ]
     },
     "metadata": {},
     "output_type": "display_data"
    },
    {
     "data": {
      "image/png": "[encoded data removed]",
      "text/plain": [
       "<Figure size 611.486x500 with 1 Axes>"
      ]
     },
     "metadata": {},
     "output_type": "display_data"
    }
   ],
   "source": [
    "%matplotlib inline\n",
    "sns.catplot(x=\"RAC1P\", kind=\"count\", hue=model_target, data=di_df, palette=\"husl\")\n",
    "plt.ylim(0, 2500)\n",
    "sns.catplot(x=\"RAC1P\", kind=\"count\", hue=\"y_test_pred_di\", data=di_df, palette=\"husl\")\n",
    "plt.ylim(0, 2500)\n",
    "plt.show()"
   ]
  },
  {
   "cell_type": "markdown",
   "metadata": {},
   "source": [
    "---\n",
    "## Conclusion\n",
    "Similar to what you had in the previous model, you have underpredictions in the >50k class. Furthermore, for this particular dataset, the DI transformation did not have the desired effect because the disfavored group is still at a disadvantage (relative to ground truth). Compared to the previous notebook, the results are certainly more fair because group 6 has fewer positive outcomes, and group 8 has more positive outcomes (compared to a model that was trained without any intervention at all). However, this is still not ideal. Also, is this actually fair for group 6 now, which has fewer positive outcomes than in the ground truth?\n",
    "\n",
    "## Next lab\n",
    "In the next lab, you will learn about bias mitigation during model training and postprocessing by using reweighing and equalized odds."
   ]
  }
 ],
 "metadata": {
  "instance_type": "ml.t3.medium",
  "kernelspec": {
   "display_name": "Python 3 (ipykernel)",
   "language": "python",
   "name": "python3"
  },
  "language_info": {
   "codemirror_mode": {
    "name": "ipython",
    "version": 3
   },
   "file_extension": ".py",
   "mimetype": "text/x-python",
   "name": "python",
   "nbconvert_exporter": "python",
   "pygments_lexer": "ipython3",
   "version": "3.11.4"
  },
  "toc": {
   "base_numbering": 1,
   "nav_menu": {},
   "number_sections": true,
   "sideBar": true,
   "skip_h1_title": false,
   "title_cell": "Table of Contents",
   "title_sidebar": "Contents",
   "toc_cell": false,
   "toc_position": {},
   "toc_section_display": true,
   "toc_window_display": false
  }
 },
 "nbformat": 4,
 "nbformat_minor": 4
}
